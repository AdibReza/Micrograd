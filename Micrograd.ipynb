{
  "nbformat": 4,
  "nbformat_minor": 0,
  "metadata": {
    "colab": {
      "provenance": []
    },
    "kernelspec": {
      "name": "python3",
      "display_name": "Python 3"
    },
    "language_info": {
      "name": "python"
    }
  },
  "cells": [
    {
      "cell_type": "code",
      "execution_count": 1,
      "metadata": {
        "id": "sLTYW6AA0Rx9"
      },
      "outputs": [],
      "source": [
        "import math\n",
        "import numpy as np\n",
        "import matplotlib.pyplot as plt\n",
        "%matplotlib inline"
      ]
    },
    {
      "cell_type": "code",
      "source": [
        "def f(x):\n",
        "  return 3*x**2 - 4*x  + 5"
      ],
      "metadata": {
        "id": "1Wcfh4lw0t4A"
      },
      "execution_count": 2,
      "outputs": []
    },
    {
      "cell_type": "code",
      "source": [
        "f(3.0)"
      ],
      "metadata": {
        "colab": {
          "base_uri": "https://localhost:8080/"
        },
        "id": "lS8dCAYG07kt",
        "outputId": "de433c19-fa2f-4c33-d2f0-c7c7988f51fa"
      },
      "execution_count": 3,
      "outputs": [
        {
          "output_type": "execute_result",
          "data": {
            "text/plain": [
              "20.0"
            ]
          },
          "metadata": {},
          "execution_count": 3
        }
      ]
    },
    {
      "cell_type": "code",
      "source": [
        "xs = np.arange(-5, 5, 0.25)\n",
        "ys = f(xs)\n",
        "plt.plot(xs, ys)"
      ],
      "metadata": {
        "colab": {
          "base_uri": "https://localhost:8080/",
          "height": 447
        },
        "id": "4nza0O-z0-rN",
        "outputId": "d412f320-086b-4c77-fe2d-2cc758570234"
      },
      "execution_count": 4,
      "outputs": [
        {
          "output_type": "execute_result",
          "data": {
            "text/plain": [
              "[<matplotlib.lines.Line2D at 0x7867f89cea70>]"
            ]
          },
          "metadata": {},
          "execution_count": 4
        },
        {
          "output_type": "display_data",
          "data": {
            "text/plain": [
              "<Figure size 640x480 with 1 Axes>"
            ],
            "image/png": "[encoded data removed]"
          },
          "metadata": {}
        }
      ]
    },
    {
      "cell_type": "markdown",
      "source": [
        "Finding the slope at a point"
      ],
      "metadata": {
        "id": "l0YYgbYvtnLg"
      }
    },
    {
      "cell_type": "code",
      "source": [
        "x = 3\n",
        "h = .00001\n",
        "\n",
        "(f(x + h) - f(x))/h"
      ],
      "metadata": {
        "id": "XSjLk2ek1FpD",
        "colab": {
          "base_uri": "https://localhost:8080/"
        },
        "outputId": "3f520ae9-2f47-4c15-dbe8-aa7f1776465c"
      },
      "execution_count": 5,
      "outputs": [
        {
          "output_type": "execute_result",
          "data": {
            "text/plain": [
              "14.00003000000538"
            ]
          },
          "metadata": {},
          "execution_count": 5
        }
      ]
    },
    {
      "cell_type": "code",
      "source": [
        "# les get more complex\n",
        "a = 2.0\n",
        "b = -3.0\n",
        "c = 10.0\n",
        "d = a*b + c\n",
        "print(d)"
      ],
      "metadata": {
        "colab": {
          "base_uri": "https://localhost:8080/"
        },
        "id": "_hT2Tb8MtkjJ",
        "outputId": "aa16638e-e093-45a9-9500-53d7b0c78031"
      },
      "execution_count": 6,
      "outputs": [
        {
          "output_type": "stream",
          "name": "stdout",
          "text": [
            "4.0\n"
          ]
        }
      ]
    },
    {
      "cell_type": "markdown",
      "source": [
        "analyzing the slope\n"
      ],
      "metadata": {
        "id": "lJGok8kKhLYD"
      }
    },
    {
      "cell_type": "code",
      "source": [
        "\n",
        "h = .0001\n",
        "a = 2.0\n",
        "b = -3.0\n",
        "c = 10.0\n",
        "\n",
        "d1 = a*b + c\n",
        "c += h\n",
        "\n",
        "d2 = a*b + c\n",
        "print(d1)\n",
        "print(d2)\n",
        "print((d2 - d1)/h)"
      ],
      "metadata": {
        "colab": {
          "base_uri": "https://localhost:8080/"
        },
        "id": "cL-n52dGt49B",
        "outputId": "76e66297-1e5a-42cd-e99a-c092a09dfc71"
      },
      "execution_count": 7,
      "outputs": [
        {
          "output_type": "stream",
          "name": "stdout",
          "text": [
            "4.0\n",
            "4.0001\n",
            "0.9999999999976694\n"
          ]
        }
      ]
    },
    {
      "cell_type": "code",
      "source": [
        "class Value:\n",
        "  def __init__(self, data, _children = (), _op = '', label = ''):\n",
        "    self.data = data\n",
        "    self._backward = lambda: None\n",
        "    self.grad = 0.0 # to initialize backpropagation\n",
        "    self._prev = set(_children)\n",
        "    self._op = _op\n",
        "    self.label = label\n",
        "\n",
        "  def __repr__(self): # returns the value of a value defining object\n",
        "    return f\"Value(data={self.data})\"\n",
        "\n",
        "  def __add__(self, other): # it basically calls a.__add__(b)\n",
        "    other = other if isinstance(other, Value) else Value(other)\n",
        "    output = Value(self.data + other.data, (self, other), \"+\")\n",
        "\n",
        "\n",
        "    def _backward():\n",
        "      self.grad += 1.0 * output.grad\n",
        "      other.grad += 1.0 * output.grad\n",
        "    output._backward = _backward\n",
        "\n",
        "    return output\n",
        "\n",
        "  def __pow__(self, other):\n",
        "    assert isinstance(other, (int, float)), \"only supporting int/float powers for now\"\n",
        "    out = Value(self.data**other, (self,), f'**{other}')\n",
        "\n",
        "    def _backward():\n",
        "        self.grad += other * (self.data ** (other - 1)) * out.grad\n",
        "    out._backward = _backward\n",
        "\n",
        "    return out\n",
        "\n",
        "  def __mul__(self, other): # it basically calls a.__add__(b)\n",
        "    other = other if isinstance(other, Value) else Value(other)\n",
        "    out = Value(self.data * other.data, (self, other), '*')\n",
        "\n",
        "    def _backward():\n",
        "      self.grad += other.data * out.grad\n",
        "      other.grad += self.data * out.grad\n",
        "    out._backward = _backward\n",
        "\n",
        "    return out\n",
        "  def __radd__(self, other):\n",
        "    other = other if isinstance(other, Value) else Value(other)\n",
        "    out = Value(self.data + other.data, (self, other), \"+\")\n",
        "\n",
        "    def _backward():\n",
        "        self.grad += 1.0 * out.grad\n",
        "        other.grad += 1.0 * out.grad\n",
        "    out._backward = _backward\n",
        "\n",
        "    return out\n",
        "\n",
        "  def __rmul__(self, other): # it does other * self\n",
        "    return self * other\n",
        "\n",
        "  def __truediv__(self, other):\n",
        "    return self * (other ** -1)\n",
        "\n",
        "  def __neg__(self):\n",
        "    return self * (-1)\n",
        "\n",
        "  def __sub__(self, other):\n",
        "    return self + (-other)\n",
        "\n",
        "  def tanh(self):\n",
        "    x = self.data\n",
        "    t = (math.exp(2*x) - 1)/ (math.exp(2*x) + 1)\n",
        "    out = Value(t, (self, ), \"tanh\")\n",
        "\n",
        "\n",
        "    def _backward():\n",
        "      self.grad += (1 - t**2) * out.grad\n",
        "    out._backward = _backward\n",
        "\n",
        "    return out\n",
        "\n",
        "  def exp(self):\n",
        "    x = self.data\n",
        "    out = Value(math.exp(x), (self, ), 'exp')\n",
        "\n",
        "    def _backward():\n",
        "      self.grad += out.data * out.grad\n",
        "    out._backward = _backward\n",
        "    return out\n",
        "\n",
        "  def backward(self):\n",
        "\n",
        "    topo = []\n",
        "    visited = set()\n",
        "    def build_topo(v):\n",
        "      if v not in visited:\n",
        "        visited.add(v)\n",
        "        for child in v._prev:\n",
        "          build_topo(child)\n",
        "        topo.append(v)\n",
        "    build_topo(self)\n",
        "    topo\n",
        "\n",
        "    self.grad = 1.0\n",
        "    for node in reversed(topo):\n",
        "      node._backward()\n",
        "\n",
        "\n",
        "\n",
        "a = Value(2.0, label ='a')\n",
        "b = Value(-3.0, label = 'b')\n",
        "c = Value(10.0, label = 'c')\n",
        "e = a*b; e.label = 'e'\n",
        "d = e + c; d.label = 'd'\n",
        "f = Value(-2.0, label = 'f')\n",
        "L = d * f ; L.label = 'L'\n",
        "L\n",
        "\n",
        "#At this point we know the children of graph but dont know the operations that is in between them so we are adding the _op()"
      ],
      "metadata": {
        "colab": {
          "base_uri": "https://localhost:8080/"
        },
        "id": "UuikRJkKucpp",
        "outputId": "1847291d-d88e-4716-9884-db9bc689a651"
      },
      "execution_count": 8,
      "outputs": [
        {
          "output_type": "execute_result",
          "data": {
            "text/plain": [
              "Value(data=-8.0)"
            ]
          },
          "metadata": {},
          "execution_count": 8
        }
      ]
    },
    {
      "cell_type": "code",
      "source": [
        "d._prev"
      ],
      "metadata": {
        "colab": {
          "base_uri": "https://localhost:8080/"
        },
        "id": "tyKILkzgv7mA",
        "outputId": "76860b7b-7596-416c-d1af-9419c8294771"
      },
      "execution_count": 9,
      "outputs": [
        {
          "output_type": "execute_result",
          "data": {
            "text/plain": [
              "{Value(data=-6.0), Value(data=10.0)}"
            ]
          },
          "metadata": {},
          "execution_count": 9
        }
      ]
    },
    {
      "cell_type": "code",
      "source": [
        "d._op"
      ],
      "metadata": {
        "colab": {
          "base_uri": "https://localhost:8080/",
          "height": 35
        },
        "id": "ZqU7CNt-zXMF",
        "outputId": "bffbc6fd-73e9-4baa-f8c1-1d55f0dc38e9"
      },
      "execution_count": 10,
      "outputs": [
        {
          "output_type": "execute_result",
          "data": {
            "text/plain": [
              "'+'"
            ],
            "application/vnd.google.colaboratory.intrinsic+json": {
              "type": "string"
            }
          },
          "metadata": {},
          "execution_count": 10
        }
      ]
    },
    {
      "cell_type": "code",
      "source": [
        "from graphviz import Digraph\n",
        "\n",
        "def trace(root):\n",
        "  # builds a set of all nodes and edges in a graph\n",
        "  nodes, edges = set(), set()\n",
        "  def build(v):\n",
        "    if v not in nodes:\n",
        "      nodes.add(v)\n",
        "      for child in v._prev:\n",
        "        edges.add((child, v))\n",
        "        build(child)\n",
        "  build(root)\n",
        "  return nodes, edges\n",
        "\n",
        "def draw_dot(root):\n",
        "  dot = Digraph(format='svg', graph_attr={'rankdir': 'LR'}) # LR = left to right\n",
        "\n",
        "  nodes, edges = trace(root)\n",
        "  for n in nodes:\n",
        "    uid = str(id(n))\n",
        "    # for any value in the graph, create a rectangular ('record') node for it\n",
        "    dot.node(name = uid, label = \"{ %s | data %.4f | grad %.4f}\" % (n.label, n.data, n.grad), shape='record') #, n.grad\n",
        "    if n._op:\n",
        "      # if this value is a result of some operation, create an op node for it\n",
        "      dot.node(name = uid + n._op, label = n._op)\n",
        "      # and connect this node to it\n",
        "      dot.edge(uid + n._op, uid)\n",
        "\n",
        "  for n1, n2 in edges:\n",
        "    # connect n1 to the op node of n2\n",
        "    dot.edge(str(id(n1)), str(id(n2)) + n2._op)\n",
        "\n",
        "  return dot"
      ],
      "metadata": {
        "id": "fyCYQ3JU0LZb"
      },
      "execution_count": 11,
      "outputs": []
    },
    {
      "cell_type": "code",
      "source": [
        "draw_dot(L)"
      ],
      "metadata": {
        "colab": {
          "base_uri": "https://localhost:8080/",
          "height": 249
        },
        "id": "kg9dwcKZhEHI",
        "outputId": "2cb953ea-5ee9-4534-94c3-332d54e3ef43"
      },
      "execution_count": 12,
      "outputs": [
        {
          "output_type": "execute_result",
          "data": {
            "image/svg+xml": "<?xml version=\"1.0\" encoding=\"UTF-8\" standalone=\"no\"?>\n<!DOCTYPE svg PUBLIC \"-//W3C//DTD SVG 1.1//EN\"\n \"http://www.w3.org/Graphics/SVG/1.1/DTD/svg11.dtd\">\n<!-- Generated by graphviz version 2.43.0 (0)\n -->\n<!-- Title: %3 Pages: 1 -->\n<svg width=\"1148pt\" height=\"156pt\"\n viewBox=\"0.00 0.00 1148.00 156.00\" xmlns=\"http://www.w3.org/2000/svg\" xmlns:xlink=\"http://www.w3.org/1999/xlink\">\n<g id=\"graph0\" class=\"graph\" transform=\"scale(1 1) rotate(0) translate(4 152)\">\n<title>%3</title>\n<polygon fill=\"white\" stroke=\"transparent\" points=\"-4,4 -4,-152 1144,-152 1144,4 -4,4\"/>\n<!-- 132387948001888 -->\n<g id=\"node1\" class=\"node\">\n<title>132387948001888</title>\n<polygon fill=\"none\" stroke=\"black\" points=\"2.5,-111.5 2.5,-147.5 187.5,-147.5 187.5,-111.5 2.5,-111.5\"/>\n<text text-anchor=\"middle\" x=\"14\" y=\"-125.8\" font-family=\"Times,serif\" font-size=\"14.00\">a</text>\n<polyline fill=\"none\" stroke=\"black\" points=\"25.5,-111.5 25.5,-147.5 \"/>\n<text text-anchor=\"middle\" x=\"65.5\" y=\"-125.8\" font-family=\"Times,serif\" font-size=\"14.00\">data 2.0000</text>\n<polyline fill=\"none\" stroke=\"black\" points=\"105.5,-111.5 105.5,-147.5 \"/>\n<text text-anchor=\"middle\" x=\"146.5\" y=\"-125.8\" font-family=\"Times,serif\" font-size=\"14.00\">grad 0.0000</text>\n</g>\n<!-- 132387627082720* -->\n<g id=\"node10\" class=\"node\">\n<title>132387627082720*</title>\n<ellipse fill=\"none\" stroke=\"black\" cx=\"253\" cy=\"-101.5\" rx=\"27\" ry=\"18\"/>\n<text text-anchor=\"middle\" x=\"253\" y=\"-97.8\" font-family=\"Times,serif\" font-size=\"14.00\">*</text>\n</g>\n<!-- 132387948001888&#45;&gt;132387627082720* -->\n<g id=\"edge8\" class=\"edge\">\n<title>132387948001888&#45;&gt;132387627082720*</title>\n<path fill=\"none\" stroke=\"black\" d=\"M187.65,-113.05C197.94,-111.2 207.91,-109.41 216.81,-107.82\"/>\n<polygon fill=\"black\" stroke=\"black\" points=\"217.48,-111.25 226.71,-106.04 216.25,-104.36 217.48,-111.25\"/>\n</g>\n<!-- 132387605366432 -->\n<g id=\"node2\" class=\"node\">\n<title>132387605366432</title>\n<polygon fill=\"none\" stroke=\"black\" points=\"635.5,-55.5 635.5,-91.5 820.5,-91.5 820.5,-55.5 635.5,-55.5\"/>\n<text text-anchor=\"middle\" x=\"647\" y=\"-69.8\" font-family=\"Times,serif\" font-size=\"14.00\">d</text>\n<polyline fill=\"none\" stroke=\"black\" points=\"658.5,-55.5 658.5,-91.5 \"/>\n<text text-anchor=\"middle\" x=\"698.5\" y=\"-69.8\" font-family=\"Times,serif\" font-size=\"14.00\">data 4.0000</text>\n<polyline fill=\"none\" stroke=\"black\" points=\"738.5,-55.5 738.5,-91.5 \"/>\n<text text-anchor=\"middle\" x=\"779.5\" y=\"-69.8\" font-family=\"Times,serif\" font-size=\"14.00\">grad 0.0000</text>\n</g>\n<!-- 132387605366672* -->\n<g id=\"node8\" class=\"node\">\n<title>132387605366672*</title>\n<ellipse fill=\"none\" stroke=\"black\" cx=\"885\" cy=\"-45.5\" rx=\"27\" ry=\"18\"/>\n<text text-anchor=\"middle\" x=\"885\" y=\"-41.8\" font-family=\"Times,serif\" font-size=\"14.00\">*</text>\n</g>\n<!-- 132387605366432&#45;&gt;132387605366672* -->\n<g id=\"edge5\" class=\"edge\">\n<title>132387605366432&#45;&gt;132387605366672*</title>\n<path fill=\"none\" stroke=\"black\" d=\"M820.51,-56.97C830.48,-55.17 840.13,-53.42 848.77,-51.86\"/>\n<polygon fill=\"black\" stroke=\"black\" points=\"849.55,-55.28 858.77,-50.06 848.3,-48.39 849.55,-55.28\"/>\n</g>\n<!-- 132387605366432+ -->\n<g id=\"node3\" class=\"node\">\n<title>132387605366432+</title>\n<ellipse fill=\"none\" stroke=\"black\" cx=\"571\" cy=\"-73.5\" rx=\"27\" ry=\"18\"/>\n<text text-anchor=\"middle\" x=\"571\" y=\"-69.8\" font-family=\"Times,serif\" font-size=\"14.00\">+</text>\n</g>\n<!-- 132387605366432+&#45;&gt;132387605366432 -->\n<g id=\"edge1\" class=\"edge\">\n<title>132387605366432+&#45;&gt;132387605366432</title>\n<path fill=\"none\" stroke=\"black\" d=\"M598.29,-73.5C606.26,-73.5 615.54,-73.5 625.39,-73.5\"/>\n<polygon fill=\"black\" stroke=\"black\" points=\"625.41,-77 635.41,-73.5 625.41,-70 625.41,-77\"/>\n</g>\n<!-- 132387963287344 -->\n<g id=\"node4\" class=\"node\">\n<title>132387963287344</title>\n<polygon fill=\"none\" stroke=\"black\" points=\"316,-28.5 316,-64.5 508,-64.5 508,-28.5 316,-28.5\"/>\n<text text-anchor=\"middle\" x=\"327.5\" y=\"-42.8\" font-family=\"Times,serif\" font-size=\"14.00\">c</text>\n<polyline fill=\"none\" stroke=\"black\" points=\"339,-28.5 339,-64.5 \"/>\n<text text-anchor=\"middle\" x=\"382.5\" y=\"-42.8\" font-family=\"Times,serif\" font-size=\"14.00\">data 10.0000</text>\n<polyline fill=\"none\" stroke=\"black\" points=\"426,-28.5 426,-64.5 \"/>\n<text text-anchor=\"middle\" x=\"467\" y=\"-42.8\" font-family=\"Times,serif\" font-size=\"14.00\">grad 0.0000</text>\n</g>\n<!-- 132387963287344&#45;&gt;132387605366432+ -->\n<g id=\"edge7\" class=\"edge\">\n<title>132387963287344&#45;&gt;132387605366432+</title>\n<path fill=\"none\" stroke=\"black\" d=\"M508.4,-62.91C517.69,-64.5 526.64,-66.04 534.71,-67.43\"/>\n<polygon fill=\"black\" stroke=\"black\" points=\"534.32,-70.91 544.76,-69.16 535.5,-64.02 534.32,-70.91\"/>\n</g>\n<!-- 132387627082048 -->\n<g id=\"node5\" class=\"node\">\n<title>132387627082048</title>\n<polygon fill=\"none\" stroke=\"black\" points=\"634,-0.5 634,-36.5 822,-36.5 822,-0.5 634,-0.5\"/>\n<text text-anchor=\"middle\" x=\"644.5\" y=\"-14.8\" font-family=\"Times,serif\" font-size=\"14.00\">f</text>\n<polyline fill=\"none\" stroke=\"black\" points=\"655,-0.5 655,-36.5 \"/>\n<text text-anchor=\"middle\" x=\"697.5\" y=\"-14.8\" font-family=\"Times,serif\" font-size=\"14.00\">data &#45;2.0000</text>\n<polyline fill=\"none\" stroke=\"black\" points=\"740,-0.5 740,-36.5 \"/>\n<text text-anchor=\"middle\" x=\"781\" y=\"-14.8\" font-family=\"Times,serif\" font-size=\"14.00\">grad 0.0000</text>\n</g>\n<!-- 132387627082048&#45;&gt;132387605366672* -->\n<g id=\"edge6\" class=\"edge\">\n<title>132387627082048&#45;&gt;132387605366672*</title>\n<path fill=\"none\" stroke=\"black\" d=\"M822.29,-34.75C831.57,-36.37 840.52,-37.93 848.61,-39.33\"/>\n<polygon fill=\"black\" stroke=\"black\" points=\"848.22,-42.82 858.68,-41.09 849.42,-35.92 848.22,-42.82\"/>\n</g>\n<!-- 132387948001120 -->\n<g id=\"node6\" class=\"node\">\n<title>132387948001120</title>\n<polygon fill=\"none\" stroke=\"black\" points=\"0,-56.5 0,-92.5 190,-92.5 190,-56.5 0,-56.5\"/>\n<text text-anchor=\"middle\" x=\"11.5\" y=\"-70.8\" font-family=\"Times,serif\" font-size=\"14.00\">b</text>\n<polyline fill=\"none\" stroke=\"black\" points=\"23,-56.5 23,-92.5 \"/>\n<text text-anchor=\"middle\" x=\"65.5\" y=\"-70.8\" font-family=\"Times,serif\" font-size=\"14.00\">data &#45;3.0000</text>\n<polyline fill=\"none\" stroke=\"black\" points=\"108,-56.5 108,-92.5 \"/>\n<text text-anchor=\"middle\" x=\"149\" y=\"-70.8\" font-family=\"Times,serif\" font-size=\"14.00\">grad 0.0000</text>\n</g>\n<!-- 132387948001120&#45;&gt;132387627082720* -->\n<g id=\"edge9\" class=\"edge\">\n<title>132387948001120&#45;&gt;132387627082720*</title>\n<path fill=\"none\" stroke=\"black\" d=\"M190.34,-90.83C199.62,-92.44 208.58,-93.99 216.66,-95.38\"/>\n<polygon fill=\"black\" stroke=\"black\" points=\"216.27,-98.87 226.72,-97.12 217.46,-91.97 216.27,-98.87\"/>\n</g>\n<!-- 132387605366672 -->\n<g id=\"node7\" class=\"node\">\n<title>132387605366672</title>\n<polygon fill=\"none\" stroke=\"black\" points=\"948,-27.5 948,-63.5 1140,-63.5 1140,-27.5 948,-27.5\"/>\n<text text-anchor=\"middle\" x=\"960.5\" y=\"-41.8\" font-family=\"Times,serif\" font-size=\"14.00\">L</text>\n<polyline fill=\"none\" stroke=\"black\" points=\"973,-27.5 973,-63.5 \"/>\n<text text-anchor=\"middle\" x=\"1015.5\" y=\"-41.8\" font-family=\"Times,serif\" font-size=\"14.00\">data &#45;8.0000</text>\n<polyline fill=\"none\" stroke=\"black\" points=\"1058,-27.5 1058,-63.5 \"/>\n<text text-anchor=\"middle\" x=\"1099\" y=\"-41.8\" font-family=\"Times,serif\" font-size=\"14.00\">grad 0.0000</text>\n</g>\n<!-- 132387605366672*&#45;&gt;132387605366672 -->\n<g id=\"edge2\" class=\"edge\">\n<title>132387605366672*&#45;&gt;132387605366672</title>\n<path fill=\"none\" stroke=\"black\" d=\"M912.28,-45.5C919.78,-45.5 928.44,-45.5 937.67,-45.5\"/>\n<polygon fill=\"black\" stroke=\"black\" points=\"937.87,-49 947.87,-45.5 937.87,-42 937.87,-49\"/>\n</g>\n<!-- 132387627082720 -->\n<g id=\"node9\" class=\"node\">\n<title>132387627082720</title>\n<polygon fill=\"none\" stroke=\"black\" points=\"317,-83.5 317,-119.5 507,-119.5 507,-83.5 317,-83.5\"/>\n<text text-anchor=\"middle\" x=\"328.5\" y=\"-97.8\" font-family=\"Times,serif\" font-size=\"14.00\">e</text>\n<polyline fill=\"none\" stroke=\"black\" points=\"340,-83.5 340,-119.5 \"/>\n<text text-anchor=\"middle\" x=\"382.5\" y=\"-97.8\" font-family=\"Times,serif\" font-size=\"14.00\">data &#45;6.0000</text>\n<polyline fill=\"none\" stroke=\"black\" points=\"425,-83.5 425,-119.5 \"/>\n<text text-anchor=\"middle\" x=\"466\" y=\"-97.8\" font-family=\"Times,serif\" font-size=\"14.00\">grad 0.0000</text>\n</g>\n<!-- 132387627082720&#45;&gt;132387605366432+ -->\n<g id=\"edge4\" class=\"edge\">\n<title>132387627082720&#45;&gt;132387605366432+</title>\n<path fill=\"none\" stroke=\"black\" d=\"M507.05,-84.73C516.89,-82.97 526.39,-81.28 534.9,-79.76\"/>\n<polygon fill=\"black\" stroke=\"black\" points=\"535.52,-83.2 544.75,-78 534.29,-76.31 535.52,-83.2\"/>\n</g>\n<!-- 132387627082720*&#45;&gt;132387627082720 -->\n<g id=\"edge3\" class=\"edge\">\n<title>132387627082720*&#45;&gt;132387627082720</title>\n<path fill=\"none\" stroke=\"black\" d=\"M280.28,-101.5C288.05,-101.5 297.08,-101.5 306.68,-101.5\"/>\n<polygon fill=\"black\" stroke=\"black\" points=\"306.88,-105 316.88,-101.5 306.88,-98 306.88,-105\"/>\n</g>\n</g>\n</svg>\n",
            "text/plain": [
              "<graphviz.graphs.Digraph at 0x7867e430c0d0>"
            ]
          },
          "metadata": {},
          "execution_count": 12
        }
      ]
    },
    {
      "cell_type": "markdown",
      "source": [
        "The leaf nodes will be the weights of the neural network"
      ],
      "metadata": {
        "id": "GqxULqMlA7Y6"
      }
    },
    {
      "cell_type": "code",
      "source": [
        "L.grad = 1.0"
      ],
      "metadata": {
        "id": "x5noOuR0Dlfn"
      },
      "execution_count": 13,
      "outputs": []
    },
    {
      "cell_type": "markdown",
      "source": [
        "To manually figure out the gradiant of lets say 'd', we need to find the derivative of L with respect to d. for instance, dL/dd.  \n",
        "We can figure out the derivative by using the formula;  \n",
        "--> (f(x+h) - f(x))/h  \n",
        "\n",
        "--> (f*(d+h) - f * d)/h  \n",
        "\n",
        "--> (f*d + f*h -- f*d)/h  \n",
        "\n",
        "--> f\n",
        "\n",
        "The gradiant of L with respect to d will be the other node;f. and vice versa\n",
        "\n",
        ".............................................................................\n",
        "\n",
        "Now if we want to find the derivative of c with respect to L, we need to multiply dL/dd and dd/dc. Now dd/dc will be  \n",
        "--->  d = c + e\n",
        " by differenciating it by c, we will get 1.0.  \n",
        " So, dd/dc = 1.0  \n",
        " and, dd/de = 1.0  \n",
        " Here we can see, when there is plus node, the gradiant will just flow and remain the same.\n",
        "\n",
        " ............................................................................\n",
        "\n",
        " In the same way, if we want to find dL/da, it will be dL/de * de/da.  \n",
        " Here we just need to find de/da.  \n",
        " so,  \n",
        " dL/da = dL/de * de/da  \n",
        "= -2.0 * b.data  \n",
        "= -2.0 * -3.0  \n",
        "\n",
        "Similarly,  \n",
        "dL/db = dL/de * de/db  \n",
        "= -2.0 * a.data  \n",
        "= -2.0 * 2.0   \n",
        "\n",
        ".............................................................................  \n",
        "\n",
        "Now If we want to changew our L, we need to nudge (adding a value h) our leaf nodes in the positive direction. The leaf nodes are the connected ones."
      ],
      "metadata": {
        "id": "nocZG9rAEQNH"
      }
    },
    {
      "cell_type": "code",
      "source": [
        "f.grad = -2.0\n",
        "d.grad = 4.0\n",
        "c.grad = -2.0\n",
        "e.grad = 4.0\n",
        "\n",
        "a.grad = 6.0\n",
        "b.grad = -4.0"
      ],
      "metadata": {
        "id": "GzxB8pnlEONg"
      },
      "execution_count": 14,
      "outputs": []
    },
    {
      "cell_type": "code",
      "source": [],
      "metadata": {
        "id": "PNY4wosZKX3W"
      },
      "execution_count": 14,
      "outputs": []
    },
    {
      "cell_type": "code",
      "source": [
        "def lol():\n",
        "\n",
        "  h = 0.001\n",
        "  a = Value(2.0, label ='a')\n",
        "  b = Value(-3.0, label = 'b')\n",
        "  c = Value(10.0, label = 'c')\n",
        "  e = a*b; e.label = 'e'\n",
        "  d = e + c; d.label = 'd'\n",
        "  f = Value(-2.0, label = 'f')\n",
        "  L = d * f ; L.label = 'L'\n",
        "  L1 = L.data\n",
        "\n",
        "  a = Value(2.0, label ='a')\n",
        "  b = Value(-3.0, label = 'b')\n",
        "  c = Value(10.0, label = 'c')\n",
        "  e = a*b; e.label = 'e'\n",
        "  d = e + c; d.label = 'd'\n",
        "  f = Value(-2.0, label = 'f')\n",
        "  L = d * f ; L.label = 'L'\n",
        "  L2 = L.data + h\n",
        "\n",
        "  print((L2 - L1)/h)\n",
        "\n",
        "lol()"
      ],
      "metadata": {
        "id": "iMlLWKnBhGc0",
        "colab": {
          "base_uri": "https://localhost:8080/"
        },
        "outputId": "7b79001e-bbb8-423a-a447-ad1e2eccee2d"
      },
      "execution_count": 15,
      "outputs": [
        {
          "output_type": "stream",
          "name": "stdout",
          "text": [
            "1.000000000000334\n"
          ]
        }
      ]
    },
    {
      "cell_type": "markdown",
      "source": [
        "An acrivtion function acts as a squashing function. the inputs gets squashed in a range. here we will be using tanh to demonstrate"
      ],
      "metadata": {
        "id": "2KlxT9WBeXNR"
      }
    },
    {
      "cell_type": "markdown",
      "source": [
        "![image.png](data:image/png;base64,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)"
      ],
      "metadata": {
        "id": "HlXrphJofm8a"
      }
    },
    {
      "cell_type": "code",
      "source": [
        "plt.plot(np.arange(-5, 5, 0.2), np.tanh(np.arange(-5, 5, 0.2))); plt.grid()"
      ],
      "metadata": {
        "colab": {
          "base_uri": "https://localhost:8080/",
          "height": 430
        },
        "id": "4Bw3Lt-rDI_R",
        "outputId": "121f7855-dc01-4105-a141-edf38e72fe20"
      },
      "execution_count": 16,
      "outputs": [
        {
          "output_type": "display_data",
          "data": {
            "text/plain": [
              "<Figure size 640x480 with 1 Axes>"
            ],
            "image/png": "[encoded data removed]"
          },
          "metadata": {}
        }
      ]
    },
    {
      "cell_type": "code",
      "source": [
        "# inputs x1,x2\n",
        "x1 = Value(2.0, label='x1')\n",
        "x2 = Value(0.0, label='x2')\n",
        "# weights w1,w2\n",
        "w1 = Value(-3.0, label='w1')\n",
        "w2 = Value(1.0, label='w2')\n",
        "# bias of the neuron\n",
        "b = Value(6.8813735870195432, label='b')\n",
        "# x1*w1 + x2*w2 + b\n",
        "x1w1 = x1*w1; x1w1.label = 'x1*w1'\n",
        "x2w2 = x2*w2; x2w2.label = 'x2*w2'\n",
        "x1w1x2w2 = x1w1 + x2w2; x1w1x2w2.label = 'x1*w1 + x2*w2'\n",
        "n = x1w1x2w2 + b; n.label = 'n'\n",
        "o = n.tanh(); o.label = 'o'\n",
        "\n",
        "\n",
        "# Here this N is  the cell body and Now we will get this function through the activation function , O.\n",
        "\n",
        "# We got, n = 0.88 and o = 0.70. it hasnt been squashed as much as we wanted. So if we increase our bias from 6.88 to 8.0, we get n = 2.0 and o = 0.96. It squashed quite a bit.\n",
        "# for the sake of nicer number, we gonna use 6.8813735870195432"
      ],
      "metadata": {
        "id": "4BjcarUGfNsL"
      },
      "execution_count": 17,
      "outputs": []
    },
    {
      "cell_type": "code",
      "source": [
        "draw_dot(o)"
      ],
      "metadata": {
        "colab": {
          "base_uri": "https://localhost:8080/",
          "height": 321
        },
        "id": "u3UYzJjZppZo",
        "outputId": "842a87f3-9a79-4f84-9b47-2e45853d9d74"
      },
      "execution_count": 18,
      "outputs": [
        {
          "output_type": "execute_result",
          "data": {
            "image/svg+xml": "<?xml version=\"1.0\" encoding=\"UTF-8\" standalone=\"no\"?>\n<!DOCTYPE svg PUBLIC \"-//W3C//DTD SVG 1.1//EN\"\n \"http://www.w3.org/Graphics/SVG/1.1/DTD/svg11.dtd\">\n<!-- Generated by graphviz version 2.43.0 (0)\n -->\n<!-- Title: %3 Pages: 1 -->\n<svg width=\"1575pt\" height=\"210pt\"\n viewBox=\"0.00 0.00 1575.00 210.00\" xmlns=\"http://www.w3.org/2000/svg\" xmlns:xlink=\"http://www.w3.org/1999/xlink\">\n<g id=\"graph0\" class=\"graph\" transform=\"scale(1 1) rotate(0) translate(4 206)\">\n<title>%3</title>\n<polygon fill=\"white\" stroke=\"transparent\" points=\"-4,4 -4,-206 1571,-206 1571,4 -4,4\"/>\n<!-- 132387606260240 -->\n<g id=\"node1\" class=\"node\">\n<title>132387606260240</title>\n<polygon fill=\"none\" stroke=\"black\" points=\"1071,-109.5 1071,-145.5 1256,-145.5 1256,-109.5 1071,-109.5\"/>\n<text text-anchor=\"middle\" x=\"1082.5\" y=\"-123.8\" font-family=\"Times,serif\" font-size=\"14.00\">n</text>\n<polyline fill=\"none\" stroke=\"black\" points=\"1094,-109.5 1094,-145.5 \"/>\n<text text-anchor=\"middle\" x=\"1134\" y=\"-123.8\" font-family=\"Times,serif\" font-size=\"14.00\">data 0.8814</text>\n<polyline fill=\"none\" stroke=\"black\" points=\"1174,-109.5 1174,-145.5 \"/>\n<text text-anchor=\"middle\" x=\"1215\" y=\"-123.8\" font-family=\"Times,serif\" font-size=\"14.00\">grad 0.0000</text>\n</g>\n<!-- 132387606259760tanh -->\n<g id=\"node5\" class=\"node\">\n<title>132387606259760tanh</title>\n<ellipse fill=\"none\" stroke=\"black\" cx=\"1319\" cy=\"-127.5\" rx=\"27\" ry=\"18\"/>\n<text text-anchor=\"middle\" x=\"1319\" y=\"-123.8\" font-family=\"Times,serif\" font-size=\"14.00\">tanh</text>\n</g>\n<!-- 132387606260240&#45;&gt;132387606259760tanh -->\n<g id=\"edge14\" class=\"edge\">\n<title>132387606260240&#45;&gt;132387606259760tanh</title>\n<path fill=\"none\" stroke=\"black\" d=\"M1256.01,-127.5C1265.01,-127.5 1273.74,-127.5 1281.66,-127.5\"/>\n<polygon fill=\"black\" stroke=\"black\" points=\"1281.91,-131 1291.91,-127.5 1281.91,-124 1281.91,-131\"/>\n</g>\n<!-- 132387606260240+ -->\n<g id=\"node2\" class=\"node\">\n<title>132387606260240+</title>\n<ellipse fill=\"none\" stroke=\"black\" cx=\"1008\" cy=\"-127.5\" rx=\"27\" ry=\"18\"/>\n<text text-anchor=\"middle\" x=\"1008\" y=\"-123.8\" font-family=\"Times,serif\" font-size=\"14.00\">+</text>\n</g>\n<!-- 132387606260240+&#45;&gt;132387606260240 -->\n<g id=\"edge1\" class=\"edge\">\n<title>132387606260240+&#45;&gt;132387606260240</title>\n<path fill=\"none\" stroke=\"black\" d=\"M1035.04,-127.5C1042.58,-127.5 1051.3,-127.5 1060.57,-127.5\"/>\n<polygon fill=\"black\" stroke=\"black\" points=\"1060.81,-131 1070.81,-127.5 1060.81,-124 1060.81,-131\"/>\n</g>\n<!-- 132387606008336 -->\n<g id=\"node3\" class=\"node\">\n<title>132387606008336</title>\n<polygon fill=\"none\" stroke=\"black\" points=\"2.5,-165.5 2.5,-201.5 197.5,-201.5 197.5,-165.5 2.5,-165.5\"/>\n<text text-anchor=\"middle\" x=\"19\" y=\"-179.8\" font-family=\"Times,serif\" font-size=\"14.00\">w2</text>\n<polyline fill=\"none\" stroke=\"black\" points=\"35.5,-165.5 35.5,-201.5 \"/>\n<text text-anchor=\"middle\" x=\"75.5\" y=\"-179.8\" font-family=\"Times,serif\" font-size=\"14.00\">data 1.0000</text>\n<polyline fill=\"none\" stroke=\"black\" points=\"115.5,-165.5 115.5,-201.5 \"/>\n<text text-anchor=\"middle\" x=\"156.5\" y=\"-179.8\" font-family=\"Times,serif\" font-size=\"14.00\">grad 0.0000</text>\n</g>\n<!-- 132387606259280* -->\n<g id=\"node7\" class=\"node\">\n<title>132387606259280*</title>\n<ellipse fill=\"none\" stroke=\"black\" cx=\"263\" cy=\"-128.5\" rx=\"27\" ry=\"18\"/>\n<text text-anchor=\"middle\" x=\"263\" y=\"-124.8\" font-family=\"Times,serif\" font-size=\"14.00\">*</text>\n</g>\n<!-- 132387606008336&#45;&gt;132387606259280* -->\n<g id=\"edge13\" class=\"edge\">\n<title>132387606008336&#45;&gt;132387606259280*</title>\n<path fill=\"none\" stroke=\"black\" d=\"M172.53,-165.44C181.84,-162.67 191.2,-159.67 200,-156.5 210.53,-152.71 221.75,-147.9 231.72,-143.33\"/>\n<polygon fill=\"black\" stroke=\"black\" points=\"233.25,-146.48 240.82,-139.07 230.28,-140.14 233.25,-146.48\"/>\n</g>\n<!-- 132387606259760 -->\n<g id=\"node4\" class=\"node\">\n<title>132387606259760</title>\n<polygon fill=\"none\" stroke=\"black\" points=\"1382,-109.5 1382,-145.5 1567,-145.5 1567,-109.5 1382,-109.5\"/>\n<text text-anchor=\"middle\" x=\"1393.5\" y=\"-123.8\" font-family=\"Times,serif\" font-size=\"14.00\">o</text>\n<polyline fill=\"none\" stroke=\"black\" points=\"1405,-109.5 1405,-145.5 \"/>\n<text text-anchor=\"middle\" x=\"1445\" y=\"-123.8\" font-family=\"Times,serif\" font-size=\"14.00\">data 0.7071</text>\n<polyline fill=\"none\" stroke=\"black\" points=\"1485,-109.5 1485,-145.5 \"/>\n<text text-anchor=\"middle\" x=\"1526\" y=\"-123.8\" font-family=\"Times,serif\" font-size=\"14.00\">grad 0.0000</text>\n</g>\n<!-- 132387606259760tanh&#45;&gt;132387606259760 -->\n<g id=\"edge2\" class=\"edge\">\n<title>132387606259760tanh&#45;&gt;132387606259760</title>\n<path fill=\"none\" stroke=\"black\" d=\"M1346.04,-127.5C1353.58,-127.5 1362.3,-127.5 1371.57,-127.5\"/>\n<polygon fill=\"black\" stroke=\"black\" points=\"1371.81,-131 1381.81,-127.5 1371.81,-124 1371.81,-131\"/>\n</g>\n<!-- 132387606259280 -->\n<g id=\"node6\" class=\"node\">\n<title>132387606259280</title>\n<polygon fill=\"none\" stroke=\"black\" points=\"328.5,-110.5 328.5,-146.5 543.5,-146.5 543.5,-110.5 328.5,-110.5\"/>\n<text text-anchor=\"middle\" x=\"355\" y=\"-124.8\" font-family=\"Times,serif\" font-size=\"14.00\">x2*w2</text>\n<polyline fill=\"none\" stroke=\"black\" points=\"381.5,-110.5 381.5,-146.5 \"/>\n<text text-anchor=\"middle\" x=\"421.5\" y=\"-124.8\" font-family=\"Times,serif\" font-size=\"14.00\">data 0.0000</text>\n<polyline fill=\"none\" stroke=\"black\" points=\"461.5,-110.5 461.5,-146.5 \"/>\n<text text-anchor=\"middle\" x=\"502.5\" y=\"-124.8\" font-family=\"Times,serif\" font-size=\"14.00\">grad 0.0000</text>\n</g>\n<!-- 132387606259472+ -->\n<g id=\"node12\" class=\"node\">\n<title>132387606259472+</title>\n<ellipse fill=\"none\" stroke=\"black\" cx=\"609\" cy=\"-100.5\" rx=\"27\" ry=\"18\"/>\n<text text-anchor=\"middle\" x=\"609\" y=\"-96.8\" font-family=\"Times,serif\" font-size=\"14.00\">+</text>\n</g>\n<!-- 132387606259280&#45;&gt;132387606259472+ -->\n<g id=\"edge10\" class=\"edge\">\n<title>132387606259280&#45;&gt;132387606259472+</title>\n<path fill=\"none\" stroke=\"black\" d=\"M543.84,-111.01C554.01,-109.34 563.76,-107.74 572.44,-106.32\"/>\n<polygon fill=\"black\" stroke=\"black\" points=\"573.17,-109.75 582.47,-104.68 572.04,-102.84 573.17,-109.75\"/>\n</g>\n<!-- 132387606259280*&#45;&gt;132387606259280 -->\n<g id=\"edge3\" class=\"edge\">\n<title>132387606259280*&#45;&gt;132387606259280</title>\n<path fill=\"none\" stroke=\"black\" d=\"M290.34,-128.5C298.51,-128.5 308.08,-128.5 318.36,-128.5\"/>\n<polygon fill=\"black\" stroke=\"black\" points=\"318.39,-132 328.39,-128.5 318.39,-125 318.39,-132\"/>\n</g>\n<!-- 132387606256208 -->\n<g id=\"node8\" class=\"node\">\n<title>132387606256208</title>\n<polygon fill=\"none\" stroke=\"black\" points=\"326,-55.5 326,-91.5 546,-91.5 546,-55.5 326,-55.5\"/>\n<text text-anchor=\"middle\" x=\"352.5\" y=\"-69.8\" font-family=\"Times,serif\" font-size=\"14.00\">x1*w1</text>\n<polyline fill=\"none\" stroke=\"black\" points=\"379,-55.5 379,-91.5 \"/>\n<text text-anchor=\"middle\" x=\"421.5\" y=\"-69.8\" font-family=\"Times,serif\" font-size=\"14.00\">data &#45;6.0000</text>\n<polyline fill=\"none\" stroke=\"black\" points=\"464,-55.5 464,-91.5 \"/>\n<text text-anchor=\"middle\" x=\"505\" y=\"-69.8\" font-family=\"Times,serif\" font-size=\"14.00\">grad 0.0000</text>\n</g>\n<!-- 132387606256208&#45;&gt;132387606259472+ -->\n<g id=\"edge12\" class=\"edge\">\n<title>132387606256208&#45;&gt;132387606259472+</title>\n<path fill=\"none\" stroke=\"black\" d=\"M546.27,-90.75C555.64,-92.23 564.6,-93.65 572.65,-94.92\"/>\n<polygon fill=\"black\" stroke=\"black\" points=\"572.23,-98.4 582.65,-96.5 573.32,-91.48 572.23,-98.4\"/>\n</g>\n<!-- 132387606256208* -->\n<g id=\"node9\" class=\"node\">\n<title>132387606256208*</title>\n<ellipse fill=\"none\" stroke=\"black\" cx=\"263\" cy=\"-73.5\" rx=\"27\" ry=\"18\"/>\n<text text-anchor=\"middle\" x=\"263\" y=\"-69.8\" font-family=\"Times,serif\" font-size=\"14.00\">*</text>\n</g>\n<!-- 132387606256208*&#45;&gt;132387606256208 -->\n<g id=\"edge4\" class=\"edge\">\n<title>132387606256208*&#45;&gt;132387606256208</title>\n<path fill=\"none\" stroke=\"black\" d=\"M290.34,-73.5C297.77,-73.5 306.37,-73.5 315.6,-73.5\"/>\n<polygon fill=\"black\" stroke=\"black\" points=\"315.84,-77 325.84,-73.5 315.84,-70 315.84,-77\"/>\n</g>\n<!-- 132387606259856 -->\n<g id=\"node10\" class=\"node\">\n<title>132387606259856</title>\n<polygon fill=\"none\" stroke=\"black\" points=\"716,-137.5 716,-173.5 901,-173.5 901,-137.5 716,-137.5\"/>\n<text text-anchor=\"middle\" x=\"727.5\" y=\"-151.8\" font-family=\"Times,serif\" font-size=\"14.00\">b</text>\n<polyline fill=\"none\" stroke=\"black\" points=\"739,-137.5 739,-173.5 \"/>\n<text text-anchor=\"middle\" x=\"779\" y=\"-151.8\" font-family=\"Times,serif\" font-size=\"14.00\">data 6.8814</text>\n<polyline fill=\"none\" stroke=\"black\" points=\"819,-137.5 819,-173.5 \"/>\n<text text-anchor=\"middle\" x=\"860\" y=\"-151.8\" font-family=\"Times,serif\" font-size=\"14.00\">grad 0.0000</text>\n</g>\n<!-- 132387606259856&#45;&gt;132387606260240+ -->\n<g id=\"edge9\" class=\"edge\">\n<title>132387606259856&#45;&gt;132387606260240+</title>\n<path fill=\"none\" stroke=\"black\" d=\"M901.02,-142.52C926,-138.98 951.59,-135.36 971.37,-132.55\"/>\n<polygon fill=\"black\" stroke=\"black\" points=\"972.03,-135.99 981.43,-131.12 971.04,-129.06 972.03,-135.99\"/>\n</g>\n<!-- 132387606259472 -->\n<g id=\"node11\" class=\"node\">\n<title>132387606259472</title>\n<polygon fill=\"none\" stroke=\"black\" points=\"672,-82.5 672,-118.5 945,-118.5 945,-82.5 672,-82.5\"/>\n<text text-anchor=\"middle\" x=\"725\" y=\"-96.8\" font-family=\"Times,serif\" font-size=\"14.00\">x1*w1 + x2*w2</text>\n<polyline fill=\"none\" stroke=\"black\" points=\"778,-82.5 778,-118.5 \"/>\n<text text-anchor=\"middle\" x=\"820.5\" y=\"-96.8\" font-family=\"Times,serif\" font-size=\"14.00\">data &#45;6.0000</text>\n<polyline fill=\"none\" stroke=\"black\" points=\"863,-82.5 863,-118.5 \"/>\n<text text-anchor=\"middle\" x=\"904\" y=\"-96.8\" font-family=\"Times,serif\" font-size=\"14.00\">grad 0.0000</text>\n</g>\n<!-- 132387606259472&#45;&gt;132387606260240+ -->\n<g id=\"edge6\" class=\"edge\">\n<title>132387606259472&#45;&gt;132387606260240+</title>\n<path fill=\"none\" stroke=\"black\" d=\"M941.24,-118.51C952.12,-120 962.4,-121.4 971.45,-122.64\"/>\n<polygon fill=\"black\" stroke=\"black\" points=\"971.11,-126.13 981.49,-124.01 972.05,-119.19 971.11,-126.13\"/>\n</g>\n<!-- 132387606259472+&#45;&gt;132387606259472 -->\n<g id=\"edge5\" class=\"edge\">\n<title>132387606259472+&#45;&gt;132387606259472</title>\n<path fill=\"none\" stroke=\"black\" d=\"M636.23,-100.5C643.7,-100.5 652.41,-100.5 661.87,-100.5\"/>\n<polygon fill=\"black\" stroke=\"black\" points=\"661.98,-104 671.98,-100.5 661.98,-97 661.98,-104\"/>\n</g>\n<!-- 132387606172032 -->\n<g id=\"node13\" class=\"node\">\n<title>132387606172032</title>\n<polygon fill=\"none\" stroke=\"black\" points=\"4,-110.5 4,-146.5 196,-146.5 196,-110.5 4,-110.5\"/>\n<text text-anchor=\"middle\" x=\"19\" y=\"-124.8\" font-family=\"Times,serif\" font-size=\"14.00\">x2</text>\n<polyline fill=\"none\" stroke=\"black\" points=\"34,-110.5 34,-146.5 \"/>\n<text text-anchor=\"middle\" x=\"74\" y=\"-124.8\" font-family=\"Times,serif\" font-size=\"14.00\">data 0.0000</text>\n<polyline fill=\"none\" stroke=\"black\" points=\"114,-110.5 114,-146.5 \"/>\n<text text-anchor=\"middle\" x=\"155\" y=\"-124.8\" font-family=\"Times,serif\" font-size=\"14.00\">grad 0.0000</text>\n</g>\n<!-- 132387606172032&#45;&gt;132387606259280* -->\n<g id=\"edge7\" class=\"edge\">\n<title>132387606172032&#45;&gt;132387606259280*</title>\n<path fill=\"none\" stroke=\"black\" d=\"M196.05,-128.5C206.52,-128.5 216.65,-128.5 225.71,-128.5\"/>\n<polygon fill=\"black\" stroke=\"black\" points=\"225.79,-132 235.79,-128.5 225.79,-125 225.79,-132\"/>\n</g>\n<!-- 132387606016928 -->\n<g id=\"node14\" class=\"node\">\n<title>132387606016928</title>\n<polygon fill=\"none\" stroke=\"black\" points=\"4,-55.5 4,-91.5 196,-91.5 196,-55.5 4,-55.5\"/>\n<text text-anchor=\"middle\" x=\"19\" y=\"-69.8\" font-family=\"Times,serif\" font-size=\"14.00\">x1</text>\n<polyline fill=\"none\" stroke=\"black\" points=\"34,-55.5 34,-91.5 \"/>\n<text text-anchor=\"middle\" x=\"74\" y=\"-69.8\" font-family=\"Times,serif\" font-size=\"14.00\">data 2.0000</text>\n<polyline fill=\"none\" stroke=\"black\" points=\"114,-55.5 114,-91.5 \"/>\n<text text-anchor=\"middle\" x=\"155\" y=\"-69.8\" font-family=\"Times,serif\" font-size=\"14.00\">grad 0.0000</text>\n</g>\n<!-- 132387606016928&#45;&gt;132387606256208* -->\n<g id=\"edge8\" class=\"edge\">\n<title>132387606016928&#45;&gt;132387606256208*</title>\n<path fill=\"none\" stroke=\"black\" d=\"M196.05,-73.5C206.52,-73.5 216.65,-73.5 225.71,-73.5\"/>\n<polygon fill=\"black\" stroke=\"black\" points=\"225.79,-77 235.79,-73.5 225.79,-70 225.79,-77\"/>\n</g>\n<!-- 132387606182880 -->\n<g id=\"node15\" class=\"node\">\n<title>132387606182880</title>\n<polygon fill=\"none\" stroke=\"black\" points=\"0,-0.5 0,-36.5 200,-36.5 200,-0.5 0,-0.5\"/>\n<text text-anchor=\"middle\" x=\"16.5\" y=\"-14.8\" font-family=\"Times,serif\" font-size=\"14.00\">w1</text>\n<polyline fill=\"none\" stroke=\"black\" points=\"33,-0.5 33,-36.5 \"/>\n<text text-anchor=\"middle\" x=\"75.5\" y=\"-14.8\" font-family=\"Times,serif\" font-size=\"14.00\">data &#45;3.0000</text>\n<polyline fill=\"none\" stroke=\"black\" points=\"118,-0.5 118,-36.5 \"/>\n<text text-anchor=\"middle\" x=\"159\" y=\"-14.8\" font-family=\"Times,serif\" font-size=\"14.00\">grad 0.0000</text>\n</g>\n<!-- 132387606182880&#45;&gt;132387606256208* -->\n<g id=\"edge11\" class=\"edge\">\n<title>132387606182880&#45;&gt;132387606256208*</title>\n<path fill=\"none\" stroke=\"black\" d=\"M169.28,-36.5C179.65,-39.61 190.16,-42.98 200,-46.5 210.28,-50.17 221.28,-54.74 231.11,-59.07\"/>\n<polygon fill=\"black\" stroke=\"black\" points=\"229.93,-62.37 240.48,-63.27 232.79,-55.99 229.93,-62.37\"/>\n</g>\n</g>\n</svg>\n",
            "text/plain": [
              "<graphviz.graphs.Digraph at 0x7867e43e76a0>"
            ]
          },
          "metadata": {},
          "execution_count": 18
        }
      ]
    },
    {
      "cell_type": "code",
      "source": [
        "o.backward()"
      ],
      "metadata": {
        "id": "Bi3PUF7FjVgP"
      },
      "execution_count": 19,
      "outputs": []
    },
    {
      "cell_type": "markdown",
      "source": [
        "We now know how we can find the gradients but to do that we need to knoq all the children node. for that we will be using topological sort so that we can make sure that all the children nodes exist."
      ],
      "metadata": {
        "id": "o4rOMVgbgmFH"
      }
    },
    {
      "cell_type": "code",
      "source": [
        "# o.grad = 1.0\n",
        "\n",
        "# topo = []\n",
        "# visited = set()\n",
        "# def build_topo(v):\n",
        "#   if v not in visited:\n",
        "#     visited.add(v)\n",
        "#     for child in v._prev:\n",
        "#       build_topo(child)\n",
        "#     topo.append(v)\n",
        "# build_topo(o)\n",
        "# topo\n",
        "\n",
        "# for node in reversed(topo):\n",
        "#   node._backward()"
      ],
      "metadata": {
        "id": "irgOYGMVPq95"
      },
      "execution_count": 20,
      "outputs": []
    },
    {
      "cell_type": "code",
      "source": [
        "# o._backward()"
      ],
      "metadata": {
        "id": "t_Hc1G_tP4C1"
      },
      "execution_count": 21,
      "outputs": []
    },
    {
      "cell_type": "code",
      "source": [
        "# n._backward()"
      ],
      "metadata": {
        "id": "dvobNOlgQV8n"
      },
      "execution_count": 22,
      "outputs": []
    },
    {
      "cell_type": "code",
      "source": [
        "# x1w1x2w2._backward()"
      ],
      "metadata": {
        "id": "Qh0e3GpHQct1"
      },
      "execution_count": 23,
      "outputs": []
    },
    {
      "cell_type": "code",
      "source": [
        "# b._backward()"
      ],
      "metadata": {
        "id": "GXsJm75HQjl8"
      },
      "execution_count": 24,
      "outputs": []
    },
    {
      "cell_type": "code",
      "source": [
        "# x1w1._backward()\n",
        "# x2w2._backward()"
      ],
      "metadata": {
        "id": "jqMh26NmQqq-"
      },
      "execution_count": 25,
      "outputs": []
    },
    {
      "cell_type": "markdown",
      "source": [
        "### intuitive Things:\n",
        "here the gradiant of w1 is 1.0. this means that, Our output will change proportionally to w1."
      ],
      "metadata": {
        "id": "qVKVvHB7sgXl"
      }
    },
    {
      "cell_type": "code",
      "source": [
        "  # Now lets backpropagate.\n",
        "  # In case of  do/dn, 0 = tanh(n). By formula we get do/dn = 1 - tanh(n)**2\n",
        "  # or do/dn = 1 - o**2\n",
        "\n",
        "  # o.grad = 1.0\n",
        "  # n.grad = 1 - o.data**2\n",
        "\n",
        "  # x1w1x2w2.grad = 0.5\n",
        "  # b.grad = 0.5 #As + is a gradiant distributer\n",
        "\n",
        "  # x1w1.grad = 0.5\n",
        "  # x2w2.grad = 0.5\n",
        "\n",
        "  # x1.grad = w1.data * x1w1.grad\n",
        "  # w1.grad = x1.data * x1w1.grad\n",
        "\n",
        "  # x2.grad = w2.data * x2w2.grad\n",
        "  # w2.grad = x2.data * x2w2.grad"
      ],
      "metadata": {
        "id": "6tbmBUP5jSGP"
      },
      "execution_count": 26,
      "outputs": []
    },
    {
      "cell_type": "markdown",
      "source": [
        "Theres a simple bug in nour model. it is showed below"
      ],
      "metadata": {
        "id": "RHhbnBcbkuvF"
      }
    },
    {
      "cell_type": "code",
      "source": [
        "a = Value(3.0, label ='a')\n",
        "b = a + a ; b.label = 'b'\n",
        "b.backward()\n",
        "draw_dot(b)"
      ],
      "metadata": {
        "id": "nGK3G-pspmyF",
        "colab": {
          "base_uri": "https://localhost:8080/",
          "height": 81
        },
        "outputId": "3adb619a-7f0e-45bd-d6df-d8df7980c6e2"
      },
      "execution_count": 27,
      "outputs": [
        {
          "output_type": "execute_result",
          "data": {
            "image/svg+xml": "<?xml version=\"1.0\" encoding=\"UTF-8\" standalone=\"no\"?>\n<!DOCTYPE svg PUBLIC \"-//W3C//DTD SVG 1.1//EN\"\n \"http://www.w3.org/Graphics/SVG/1.1/DTD/svg11.dtd\">\n<!-- Generated by graphviz version 2.43.0 (0)\n -->\n<!-- Title: %3 Pages: 1 -->\n<svg width=\"504pt\" height=\"45pt\"\n viewBox=\"0.00 0.00 504.00 45.00\" xmlns=\"http://www.w3.org/2000/svg\" xmlns:xlink=\"http://www.w3.org/1999/xlink\">\n<g id=\"graph0\" class=\"graph\" transform=\"scale(1 1) rotate(0) translate(4 41)\">\n<title>%3</title>\n<polygon fill=\"white\" stroke=\"transparent\" points=\"-4,4 -4,-41 500,-41 500,4 -4,4\"/>\n<!-- 132387606172080 -->\n<g id=\"node1\" class=\"node\">\n<title>132387606172080</title>\n<polygon fill=\"none\" stroke=\"black\" points=\"0,-0.5 0,-36.5 185,-36.5 185,-0.5 0,-0.5\"/>\n<text text-anchor=\"middle\" x=\"11.5\" y=\"-14.8\" font-family=\"Times,serif\" font-size=\"14.00\">a</text>\n<polyline fill=\"none\" stroke=\"black\" points=\"23,-0.5 23,-36.5 \"/>\n<text text-anchor=\"middle\" x=\"63\" y=\"-14.8\" font-family=\"Times,serif\" font-size=\"14.00\">data 3.0000</text>\n<polyline fill=\"none\" stroke=\"black\" points=\"103,-0.5 103,-36.5 \"/>\n<text text-anchor=\"middle\" x=\"144\" y=\"-14.8\" font-family=\"Times,serif\" font-size=\"14.00\">grad 2.0000</text>\n</g>\n<!-- 132387605365568+ -->\n<g id=\"node3\" class=\"node\">\n<title>132387605365568+</title>\n<ellipse fill=\"none\" stroke=\"black\" cx=\"248\" cy=\"-18.5\" rx=\"27\" ry=\"18\"/>\n<text text-anchor=\"middle\" x=\"248\" y=\"-14.8\" font-family=\"Times,serif\" font-size=\"14.00\">+</text>\n</g>\n<!-- 132387606172080&#45;&gt;132387605365568+ -->\n<g id=\"edge2\" class=\"edge\">\n<title>132387606172080&#45;&gt;132387605365568+</title>\n<path fill=\"none\" stroke=\"black\" d=\"M185.01,-18.5C194.01,-18.5 202.74,-18.5 210.66,-18.5\"/>\n<polygon fill=\"black\" stroke=\"black\" points=\"210.91,-22 220.91,-18.5 210.91,-15 210.91,-22\"/>\n</g>\n<!-- 132387605365568 -->\n<g id=\"node2\" class=\"node\">\n<title>132387605365568</title>\n<polygon fill=\"none\" stroke=\"black\" points=\"311,-0.5 311,-36.5 496,-36.5 496,-0.5 311,-0.5\"/>\n<text text-anchor=\"middle\" x=\"322.5\" y=\"-14.8\" font-family=\"Times,serif\" font-size=\"14.00\">b</text>\n<polyline fill=\"none\" stroke=\"black\" points=\"334,-0.5 334,-36.5 \"/>\n<text text-anchor=\"middle\" x=\"374\" y=\"-14.8\" font-family=\"Times,serif\" font-size=\"14.00\">data 6.0000</text>\n<polyline fill=\"none\" stroke=\"black\" points=\"414,-0.5 414,-36.5 \"/>\n<text text-anchor=\"middle\" x=\"455\" y=\"-14.8\" font-family=\"Times,serif\" font-size=\"14.00\">grad 1.0000</text>\n</g>\n<!-- 132387605365568+&#45;&gt;132387605365568 -->\n<g id=\"edge1\" class=\"edge\">\n<title>132387605365568+&#45;&gt;132387605365568</title>\n<path fill=\"none\" stroke=\"black\" d=\"M275.04,-18.5C282.58,-18.5 291.3,-18.5 300.57,-18.5\"/>\n<polygon fill=\"black\" stroke=\"black\" points=\"300.81,-22 310.81,-18.5 300.81,-15 300.81,-22\"/>\n</g>\n</g>\n</svg>\n",
            "text/plain": [
              "<graphviz.graphs.Digraph at 0x7867e43d3f40>"
            ]
          },
          "metadata": {},
          "execution_count": 27
        }
      ]
    },
    {
      "cell_type": "code",
      "source": [
        "a = Value(2.0)\n",
        "print(a.exp())"
      ],
      "metadata": {
        "colab": {
          "base_uri": "https://localhost:8080/"
        },
        "id": "86TjSVMSlHt2",
        "outputId": "a73c4802-5291-4a08-9580-7ebebe7e9368"
      },
      "execution_count": 28,
      "outputs": [
        {
          "output_type": "stream",
          "name": "stdout",
          "text": [
            "Value(data=7.38905609893065)\n"
          ]
        }
      ]
    },
    {
      "cell_type": "code",
      "source": [
        "# If we want to divide, we can just make it a multiplication instead\n",
        "\n",
        "a = Value(4.0)\n",
        "b = Value(2.0)\n",
        "a - b\n",
        "# a * (1/b)\n",
        "# a * (b**-1)"
      ],
      "metadata": {
        "colab": {
          "base_uri": "https://localhost:8080/"
        },
        "id": "Dr27ZU6ynylF",
        "outputId": "0cd7918c-83cd-49be-edcd-7c188ee98882"
      },
      "execution_count": 29,
      "outputs": [
        {
          "output_type": "execute_result",
          "data": {
            "text/plain": [
              "Value(data=2.0)"
            ]
          },
          "metadata": {},
          "execution_count": 29
        }
      ]
    },
    {
      "cell_type": "markdown",
      "source": [
        "Alright so instead of using tanh directly, we can break it down and use the formula to define our 'o'."
      ],
      "metadata": {
        "id": "M0uHo6K5ut-z"
      }
    },
    {
      "cell_type": "code",
      "source": [
        "# inputs x1,x2\n",
        "x1 = Value(2.0, label='x1')\n",
        "x2 = Value(0.0, label='x2')\n",
        "# weights w1,w2\n",
        "w1 = Value(-3.0, label='w1')\n",
        "w2 = Value(1.0, label='w2')\n",
        "# bias of the neuron\n",
        "b = Value(6.8813735870195432, label='b')\n",
        "# x1*w1 + x2*w2 + b\n",
        "x1w1 = x1*w1; x1w1.label = 'x1*w1'\n",
        "x2w2 = x2*w2; x2w2.label = 'x2*w2'\n",
        "x1w1x2w2 = x1w1 + x2w2; x1w1x2w2.label = 'x1*w1 + x2*w2'\n",
        "n = x1w1x2w2 + b; n.label = 'n'\n",
        "#-------------------\n",
        "e = (2*n).exp()\n",
        "o = (e-1)/(e+1)\n",
        "#-------------------\n",
        "o.label = 'o'\n",
        "o.backward()\n",
        "draw_dot(o)"
      ],
      "metadata": {
        "id": "9gKjrMYkwc7f",
        "colab": {
          "base_uri": "https://localhost:8080/",
          "height": 356
        },
        "outputId": "12c549f3-39ba-450d-e737-b11efa61c2e0"
      },
      "execution_count": 30,
      "outputs": [
        {
          "output_type": "execute_result",
          "data": {
            "image/svg+xml": "<?xml version=\"1.0\" encoding=\"UTF-8\" standalone=\"no\"?>\n<!DOCTYPE svg PUBLIC \"-//W3C//DTD SVG 1.1//EN\"\n \"http://www.w3.org/Graphics/SVG/1.1/DTD/svg11.dtd\">\n<!-- Generated by graphviz version 2.43.0 (0)\n -->\n<!-- Title: %3 Pages: 1 -->\n<svg width=\"2944pt\" height=\"236pt\"\n viewBox=\"0.00 0.00 2944.00 236.00\" xmlns=\"http://www.w3.org/2000/svg\" xmlns:xlink=\"http://www.w3.org/1999/xlink\">\n<g id=\"graph0\" class=\"graph\" transform=\"scale(1 1) rotate(0) translate(4 232)\">\n<title>%3</title>\n<polygon fill=\"white\" stroke=\"transparent\" points=\"-4,4 -4,-232 2940,-232 2940,4 -4,4\"/>\n<!-- 132387606264848 -->\n<g id=\"node1\" class=\"node\">\n<title>132387606264848</title>\n<polygon fill=\"none\" stroke=\"black\" points=\"1071,-109.5 1071,-145.5 1256,-145.5 1256,-109.5 1071,-109.5\"/>\n<text text-anchor=\"middle\" x=\"1082.5\" y=\"-123.8\" font-family=\"Times,serif\" font-size=\"14.00\">n</text>\n<polyline fill=\"none\" stroke=\"black\" points=\"1094,-109.5 1094,-145.5 \"/>\n<text text-anchor=\"middle\" x=\"1134\" y=\"-123.8\" font-family=\"Times,serif\" font-size=\"14.00\">data 0.8814</text>\n<polyline fill=\"none\" stroke=\"black\" points=\"1174,-109.5 1174,-145.5 \"/>\n<text text-anchor=\"middle\" x=\"1215\" y=\"-123.8\" font-family=\"Times,serif\" font-size=\"14.00\">grad 0.5000</text>\n</g>\n<!-- 132387606264656* -->\n<g id=\"node19\" class=\"node\">\n<title>132387606264656*</title>\n<ellipse fill=\"none\" stroke=\"black\" cx=\"1319\" cy=\"-154.5\" rx=\"27\" ry=\"18\"/>\n<text text-anchor=\"middle\" x=\"1319\" y=\"-150.8\" font-family=\"Times,serif\" font-size=\"14.00\">*</text>\n</g>\n<!-- 132387606264848&#45;&gt;132387606264656* -->\n<g id=\"edge22\" class=\"edge\">\n<title>132387606264848&#45;&gt;132387606264656*</title>\n<path fill=\"none\" stroke=\"black\" d=\"M1256.01,-143.6C1265.49,-145.26 1274.66,-146.88 1282.9,-148.33\"/>\n<polygon fill=\"black\" stroke=\"black\" points=\"1282.36,-151.78 1292.81,-150.07 1283.57,-144.89 1282.36,-151.78\"/>\n</g>\n<!-- 132387606264848+ -->\n<g id=\"node2\" class=\"node\">\n<title>132387606264848+</title>\n<ellipse fill=\"none\" stroke=\"black\" cx=\"1008\" cy=\"-127.5\" rx=\"27\" ry=\"18\"/>\n<text text-anchor=\"middle\" x=\"1008\" y=\"-123.8\" font-family=\"Times,serif\" font-size=\"14.00\">+</text>\n</g>\n<!-- 132387606264848+&#45;&gt;132387606264848 -->\n<g id=\"edge1\" class=\"edge\">\n<title>132387606264848+&#45;&gt;132387606264848</title>\n<path fill=\"none\" stroke=\"black\" d=\"M1035.04,-127.5C1042.58,-127.5 1051.3,-127.5 1060.57,-127.5\"/>\n<polygon fill=\"black\" stroke=\"black\" points=\"1060.81,-131 1070.81,-127.5 1060.81,-124 1060.81,-131\"/>\n</g>\n<!-- 132387627085360 -->\n<g id=\"node3\" class=\"node\">\n<title>132387627085360</title>\n<polygon fill=\"none\" stroke=\"black\" points=\"2751,-135.5 2751,-171.5 2936,-171.5 2936,-135.5 2751,-135.5\"/>\n<text text-anchor=\"middle\" x=\"2762.5\" y=\"-149.8\" font-family=\"Times,serif\" font-size=\"14.00\">o</text>\n<polyline fill=\"none\" stroke=\"black\" points=\"2774,-135.5 2774,-171.5 \"/>\n<text text-anchor=\"middle\" x=\"2814\" y=\"-149.8\" font-family=\"Times,serif\" font-size=\"14.00\">data 0.7071</text>\n<polyline fill=\"none\" stroke=\"black\" points=\"2854,-135.5 2854,-171.5 \"/>\n<text text-anchor=\"middle\" x=\"2895\" y=\"-149.8\" font-family=\"Times,serif\" font-size=\"14.00\">grad 1.0000</text>\n</g>\n<!-- 132387627085360* -->\n<g id=\"node4\" class=\"node\">\n<title>132387627085360*</title>\n<ellipse fill=\"none\" stroke=\"black\" cx=\"2688\" cy=\"-153.5\" rx=\"27\" ry=\"18\"/>\n<text text-anchor=\"middle\" x=\"2688\" y=\"-149.8\" font-family=\"Times,serif\" font-size=\"14.00\">*</text>\n</g>\n<!-- 132387627085360*&#45;&gt;132387627085360 -->\n<g id=\"edge2\" class=\"edge\">\n<title>132387627085360*&#45;&gt;132387627085360</title>\n<path fill=\"none\" stroke=\"black\" d=\"M2715.04,-153.5C2722.58,-153.5 2731.3,-153.5 2740.57,-153.5\"/>\n<polygon fill=\"black\" stroke=\"black\" points=\"2740.81,-157 2750.81,-153.5 2740.81,-150 2740.81,-157\"/>\n</g>\n<!-- 132387606261824 -->\n<g id=\"node5\" class=\"node\">\n<title>132387606261824</title>\n<polygon fill=\"none\" stroke=\"black\" points=\"1072.5,-164.5 1072.5,-200.5 1254.5,-200.5 1254.5,-164.5 1072.5,-164.5\"/>\n<text text-anchor=\"middle\" x=\"1082.5\" y=\"-178.8\" font-family=\"Times,serif\" font-size=\"14.00\"> </text>\n<polyline fill=\"none\" stroke=\"black\" points=\"1092.5,-164.5 1092.5,-200.5 \"/>\n<text text-anchor=\"middle\" x=\"1132.5\" y=\"-178.8\" font-family=\"Times,serif\" font-size=\"14.00\">data 2.0000</text>\n<polyline fill=\"none\" stroke=\"black\" points=\"1172.5,-164.5 1172.5,-200.5 \"/>\n<text text-anchor=\"middle\" x=\"1213.5\" y=\"-178.8\" font-family=\"Times,serif\" font-size=\"14.00\">grad 0.2203</text>\n</g>\n<!-- 132387606261824&#45;&gt;132387606264656* -->\n<g id=\"edge18\" class=\"edge\">\n<title>132387606261824&#45;&gt;132387606264656*</title>\n<path fill=\"none\" stroke=\"black\" d=\"M1254.68,-166.05C1264.61,-164.24 1274.23,-162.48 1282.84,-160.91\"/>\n<polygon fill=\"black\" stroke=\"black\" points=\"1283.6,-164.33 1292.81,-159.09 1282.35,-157.45 1283.6,-164.33\"/>\n</g>\n<!-- 132387606265424 -->\n<g id=\"node6\" class=\"node\">\n<title>132387606265424</title>\n<polygon fill=\"none\" stroke=\"black\" points=\"0,-55.5 0,-91.5 200,-91.5 200,-55.5 0,-55.5\"/>\n<text text-anchor=\"middle\" x=\"16.5\" y=\"-69.8\" font-family=\"Times,serif\" font-size=\"14.00\">w1</text>\n<polyline fill=\"none\" stroke=\"black\" points=\"33,-55.5 33,-91.5 \"/>\n<text text-anchor=\"middle\" x=\"75.5\" y=\"-69.8\" font-family=\"Times,serif\" font-size=\"14.00\">data &#45;3.0000</text>\n<polyline fill=\"none\" stroke=\"black\" points=\"118,-55.5 118,-91.5 \"/>\n<text text-anchor=\"middle\" x=\"159\" y=\"-69.8\" font-family=\"Times,serif\" font-size=\"14.00\">grad 1.0000</text>\n</g>\n<!-- 132387606261488* -->\n<g id=\"node12\" class=\"node\">\n<title>132387606261488*</title>\n<ellipse fill=\"none\" stroke=\"black\" cx=\"263\" cy=\"-73.5\" rx=\"27\" ry=\"18\"/>\n<text text-anchor=\"middle\" x=\"263\" y=\"-69.8\" font-family=\"Times,serif\" font-size=\"14.00\">*</text>\n</g>\n<!-- 132387606265424&#45;&gt;132387606261488* -->\n<g id=\"edge16\" class=\"edge\">\n<title>132387606265424&#45;&gt;132387606261488*</title>\n<path fill=\"none\" stroke=\"black\" d=\"M200.21,-73.5C209.2,-73.5 217.86,-73.5 225.7,-73.5\"/>\n<polygon fill=\"black\" stroke=\"black\" points=\"225.85,-77 235.85,-73.5 225.85,-70 225.85,-77\"/>\n</g>\n<!-- 132387606261344 -->\n<g id=\"node7\" class=\"node\">\n<title>132387606261344</title>\n<polygon fill=\"none\" stroke=\"black\" points=\"328.5,-110.5 328.5,-146.5 543.5,-146.5 543.5,-110.5 328.5,-110.5\"/>\n<text text-anchor=\"middle\" x=\"355\" y=\"-124.8\" font-family=\"Times,serif\" font-size=\"14.00\">x2*w2</text>\n<polyline fill=\"none\" stroke=\"black\" points=\"381.5,-110.5 381.5,-146.5 \"/>\n<text text-anchor=\"middle\" x=\"421.5\" y=\"-124.8\" font-family=\"Times,serif\" font-size=\"14.00\">data 0.0000</text>\n<polyline fill=\"none\" stroke=\"black\" points=\"461.5,-110.5 461.5,-146.5 \"/>\n<text text-anchor=\"middle\" x=\"502.5\" y=\"-124.8\" font-family=\"Times,serif\" font-size=\"14.00\">grad 0.5000</text>\n</g>\n<!-- 132387606265760+ -->\n<g id=\"node25\" class=\"node\">\n<title>132387606265760+</title>\n<ellipse fill=\"none\" stroke=\"black\" cx=\"609\" cy=\"-100.5\" rx=\"27\" ry=\"18\"/>\n<text text-anchor=\"middle\" x=\"609\" y=\"-96.8\" font-family=\"Times,serif\" font-size=\"14.00\">+</text>\n</g>\n<!-- 132387606261344&#45;&gt;132387606265760+ -->\n<g id=\"edge23\" class=\"edge\">\n<title>132387606261344&#45;&gt;132387606265760+</title>\n<path fill=\"none\" stroke=\"black\" d=\"M543.84,-111.01C554.01,-109.34 563.76,-107.74 572.44,-106.32\"/>\n<polygon fill=\"black\" stroke=\"black\" points=\"573.17,-109.75 582.47,-104.68 572.04,-102.84 573.17,-109.75\"/>\n</g>\n<!-- 132387606261344* -->\n<g id=\"node8\" class=\"node\">\n<title>132387606261344*</title>\n<ellipse fill=\"none\" stroke=\"black\" cx=\"263\" cy=\"-128.5\" rx=\"27\" ry=\"18\"/>\n<text text-anchor=\"middle\" x=\"263\" y=\"-124.8\" font-family=\"Times,serif\" font-size=\"14.00\">*</text>\n</g>\n<!-- 132387606261344*&#45;&gt;132387606261344 -->\n<g id=\"edge3\" class=\"edge\">\n<title>132387606261344*&#45;&gt;132387606261344</title>\n<path fill=\"none\" stroke=\"black\" d=\"M290.34,-128.5C298.51,-128.5 308.08,-128.5 318.36,-128.5\"/>\n<polygon fill=\"black\" stroke=\"black\" points=\"318.39,-132 328.39,-128.5 318.39,-125 318.39,-132\"/>\n</g>\n<!-- 132387606264512 -->\n<g id=\"node9\" class=\"node\">\n<title>132387606264512</title>\n<polygon fill=\"none\" stroke=\"black\" points=\"2,-0.5 2,-36.5 198,-36.5 198,-0.5 2,-0.5\"/>\n<text text-anchor=\"middle\" x=\"17\" y=\"-14.8\" font-family=\"Times,serif\" font-size=\"14.00\">x1</text>\n<polyline fill=\"none\" stroke=\"black\" points=\"32,-0.5 32,-36.5 \"/>\n<text text-anchor=\"middle\" x=\"72\" y=\"-14.8\" font-family=\"Times,serif\" font-size=\"14.00\">data 2.0000</text>\n<polyline fill=\"none\" stroke=\"black\" points=\"112,-0.5 112,-36.5 \"/>\n<text text-anchor=\"middle\" x=\"155\" y=\"-14.8\" font-family=\"Times,serif\" font-size=\"14.00\">grad &#45;1.5000</text>\n</g>\n<!-- 132387606264512&#45;&gt;132387606261488* -->\n<g id=\"edge14\" class=\"edge\">\n<title>132387606264512&#45;&gt;132387606261488*</title>\n<path fill=\"none\" stroke=\"black\" d=\"M172.53,-36.56C181.84,-39.33 191.2,-42.33 200,-45.5 210.53,-49.29 221.75,-54.1 231.72,-58.67\"/>\n<polygon fill=\"black\" stroke=\"black\" points=\"230.28,-61.86 240.82,-62.93 233.25,-55.52 230.28,-61.86\"/>\n</g>\n<!-- 132387606264560 -->\n<g id=\"node10\" class=\"node\">\n<title>132387606264560</title>\n<polygon fill=\"none\" stroke=\"black\" points=\"2.5,-165.5 2.5,-201.5 197.5,-201.5 197.5,-165.5 2.5,-165.5\"/>\n<text text-anchor=\"middle\" x=\"19\" y=\"-179.8\" font-family=\"Times,serif\" font-size=\"14.00\">w2</text>\n<polyline fill=\"none\" stroke=\"black\" points=\"35.5,-165.5 35.5,-201.5 \"/>\n<text text-anchor=\"middle\" x=\"75.5\" y=\"-179.8\" font-family=\"Times,serif\" font-size=\"14.00\">data 1.0000</text>\n<polyline fill=\"none\" stroke=\"black\" points=\"115.5,-165.5 115.5,-201.5 \"/>\n<text text-anchor=\"middle\" x=\"156.5\" y=\"-179.8\" font-family=\"Times,serif\" font-size=\"14.00\">grad 0.0000</text>\n</g>\n<!-- 132387606264560&#45;&gt;132387606261344* -->\n<g id=\"edge13\" class=\"edge\">\n<title>132387606264560&#45;&gt;132387606261344*</title>\n<path fill=\"none\" stroke=\"black\" d=\"M172.53,-165.44C181.84,-162.67 191.2,-159.67 200,-156.5 210.53,-152.71 221.75,-147.9 231.72,-143.33\"/>\n<polygon fill=\"black\" stroke=\"black\" points=\"233.25,-146.48 240.82,-139.07 230.28,-140.14 233.25,-146.48\"/>\n</g>\n<!-- 132387606261488 -->\n<g id=\"node11\" class=\"node\">\n<title>132387606261488</title>\n<polygon fill=\"none\" stroke=\"black\" points=\"326,-55.5 326,-91.5 546,-91.5 546,-55.5 326,-55.5\"/>\n<text text-anchor=\"middle\" x=\"352.5\" y=\"-69.8\" font-family=\"Times,serif\" font-size=\"14.00\">x1*w1</text>\n<polyline fill=\"none\" stroke=\"black\" points=\"379,-55.5 379,-91.5 \"/>\n<text text-anchor=\"middle\" x=\"421.5\" y=\"-69.8\" font-family=\"Times,serif\" font-size=\"14.00\">data &#45;6.0000</text>\n<polyline fill=\"none\" stroke=\"black\" points=\"464,-55.5 464,-91.5 \"/>\n<text text-anchor=\"middle\" x=\"505\" y=\"-69.8\" font-family=\"Times,serif\" font-size=\"14.00\">grad 0.5000</text>\n</g>\n<!-- 132387606261488&#45;&gt;132387606265760+ -->\n<g id=\"edge20\" class=\"edge\">\n<title>132387606261488&#45;&gt;132387606265760+</title>\n<path fill=\"none\" stroke=\"black\" d=\"M546.27,-90.75C555.64,-92.23 564.6,-93.65 572.65,-94.92\"/>\n<polygon fill=\"black\" stroke=\"black\" points=\"572.23,-98.4 582.65,-96.5 573.32,-91.48 572.23,-98.4\"/>\n</g>\n<!-- 132387606261488*&#45;&gt;132387606261488 -->\n<g id=\"edge4\" class=\"edge\">\n<title>132387606261488*&#45;&gt;132387606261488</title>\n<path fill=\"none\" stroke=\"black\" d=\"M290.34,-73.5C297.77,-73.5 306.37,-73.5 315.6,-73.5\"/>\n<polygon fill=\"black\" stroke=\"black\" points=\"315.84,-77 325.84,-73.5 315.84,-70 315.84,-77\"/>\n</g>\n<!-- 132387606259952 -->\n<g id=\"node13\" class=\"node\">\n<title>132387606259952</title>\n<polygon fill=\"none\" stroke=\"black\" points=\"716,-137.5 716,-173.5 901,-173.5 901,-137.5 716,-137.5\"/>\n<text text-anchor=\"middle\" x=\"727.5\" y=\"-151.8\" font-family=\"Times,serif\" font-size=\"14.00\">b</text>\n<polyline fill=\"none\" stroke=\"black\" points=\"739,-137.5 739,-173.5 \"/>\n<text text-anchor=\"middle\" x=\"779\" y=\"-151.8\" font-family=\"Times,serif\" font-size=\"14.00\">data 6.8814</text>\n<polyline fill=\"none\" stroke=\"black\" points=\"819,-137.5 819,-173.5 \"/>\n<text text-anchor=\"middle\" x=\"860\" y=\"-151.8\" font-family=\"Times,serif\" font-size=\"14.00\">grad 0.5000</text>\n</g>\n<!-- 132387606259952&#45;&gt;132387606264848+ -->\n<g id=\"edge17\" class=\"edge\">\n<title>132387606259952&#45;&gt;132387606264848+</title>\n<path fill=\"none\" stroke=\"black\" d=\"M901.02,-142.52C926,-138.98 951.59,-135.36 971.37,-132.55\"/>\n<polygon fill=\"black\" stroke=\"black\" points=\"972.03,-135.99 981.43,-131.12 971.04,-129.06 972.03,-135.99\"/>\n</g>\n<!-- 132387606260000 -->\n<g id=\"node14\" class=\"node\">\n<title>132387606260000</title>\n<polygon fill=\"none\" stroke=\"black\" points=\"4,-110.5 4,-146.5 196,-146.5 196,-110.5 4,-110.5\"/>\n<text text-anchor=\"middle\" x=\"19\" y=\"-124.8\" font-family=\"Times,serif\" font-size=\"14.00\">x2</text>\n<polyline fill=\"none\" stroke=\"black\" points=\"34,-110.5 34,-146.5 \"/>\n<text text-anchor=\"middle\" x=\"74\" y=\"-124.8\" font-family=\"Times,serif\" font-size=\"14.00\">data 0.0000</text>\n<polyline fill=\"none\" stroke=\"black\" points=\"114,-110.5 114,-146.5 \"/>\n<text text-anchor=\"middle\" x=\"155\" y=\"-124.8\" font-family=\"Times,serif\" font-size=\"14.00\">grad 0.5000</text>\n</g>\n<!-- 132387606260000&#45;&gt;132387606261344* -->\n<g id=\"edge28\" class=\"edge\">\n<title>132387606260000&#45;&gt;132387606261344*</title>\n<path fill=\"none\" stroke=\"black\" d=\"M196.05,-128.5C206.52,-128.5 216.65,-128.5 225.71,-128.5\"/>\n<polygon fill=\"black\" stroke=\"black\" points=\"225.79,-132 235.79,-128.5 225.79,-125 225.79,-132\"/>\n</g>\n<!-- 132387606263168 -->\n<g id=\"node15\" class=\"node\">\n<title>132387606263168</title>\n<polygon fill=\"none\" stroke=\"black\" points=\"1692.5,-136.5 1692.5,-172.5 1874.5,-172.5 1874.5,-136.5 1692.5,-136.5\"/>\n<text text-anchor=\"middle\" x=\"1702.5\" y=\"-150.8\" font-family=\"Times,serif\" font-size=\"14.00\"> </text>\n<polyline fill=\"none\" stroke=\"black\" points=\"1712.5,-136.5 1712.5,-172.5 \"/>\n<text text-anchor=\"middle\" x=\"1752.5\" y=\"-150.8\" font-family=\"Times,serif\" font-size=\"14.00\">data 5.8284</text>\n<polyline fill=\"none\" stroke=\"black\" points=\"1792.5,-136.5 1792.5,-172.5 \"/>\n<text text-anchor=\"middle\" x=\"1833.5\" y=\"-150.8\" font-family=\"Times,serif\" font-size=\"14.00\">grad 0.0429</text>\n</g>\n<!-- 132387627081568+ -->\n<g id=\"node21\" class=\"node\">\n<title>132387627081568+</title>\n<ellipse fill=\"none\" stroke=\"black\" cx=\"1940\" cy=\"-126.5\" rx=\"27\" ry=\"18\"/>\n<text text-anchor=\"middle\" x=\"1940\" y=\"-122.8\" font-family=\"Times,serif\" font-size=\"14.00\">+</text>\n</g>\n<!-- 132387606263168&#45;&gt;132387627081568+ -->\n<g id=\"edge27\" class=\"edge\">\n<title>132387606263168&#45;&gt;132387627081568+</title>\n<path fill=\"none\" stroke=\"black\" d=\"M1874.82,-138.13C1885.07,-136.27 1895.01,-134.47 1903.88,-132.87\"/>\n<polygon fill=\"black\" stroke=\"black\" points=\"1904.54,-136.3 1913.75,-131.08 1903.29,-129.42 1904.54,-136.3\"/>\n</g>\n<!-- 132387606265328+ -->\n<g id=\"node28\" class=\"node\">\n<title>132387606265328+</title>\n<ellipse fill=\"none\" stroke=\"black\" cx=\"1940\" cy=\"-181.5\" rx=\"27\" ry=\"18\"/>\n<text text-anchor=\"middle\" x=\"1940\" y=\"-177.8\" font-family=\"Times,serif\" font-size=\"14.00\">+</text>\n</g>\n<!-- 132387606263168&#45;&gt;132387606265328+ -->\n<g id=\"edge21\" class=\"edge\">\n<title>132387606263168&#45;&gt;132387606265328+</title>\n<path fill=\"none\" stroke=\"black\" d=\"M1874.82,-170.28C1885.07,-172.08 1895.01,-173.81 1903.88,-175.36\"/>\n<polygon fill=\"black\" stroke=\"black\" points=\"1903.3,-178.81 1913.75,-177.09 1904.5,-171.92 1903.3,-178.81\"/>\n</g>\n<!-- 132387606263168exp -->\n<g id=\"node16\" class=\"node\">\n<title>132387606263168exp</title>\n<ellipse fill=\"none\" stroke=\"black\" cx=\"1627\" cy=\"-154.5\" rx=\"27\" ry=\"18\"/>\n<text text-anchor=\"middle\" x=\"1627\" y=\"-150.8\" font-family=\"Times,serif\" font-size=\"14.00\">exp</text>\n</g>\n<!-- 132387606263168exp&#45;&gt;132387606263168 -->\n<g id=\"edge5\" class=\"edge\">\n<title>132387606263168exp&#45;&gt;132387606263168</title>\n<path fill=\"none\" stroke=\"black\" d=\"M1654.21,-154.5C1662.34,-154.5 1671.85,-154.5 1681.94,-154.5\"/>\n<polygon fill=\"black\" stroke=\"black\" points=\"1682.19,-158 1692.19,-154.5 1682.19,-151 1682.19,-158\"/>\n</g>\n<!-- 132387627088144 -->\n<g id=\"node17\" class=\"node\">\n<title>132387627088144</title>\n<polygon fill=\"none\" stroke=\"black\" points=\"1690.5,-81.5 1690.5,-117.5 1876.5,-117.5 1876.5,-81.5 1690.5,-81.5\"/>\n<text text-anchor=\"middle\" x=\"1700.5\" y=\"-95.8\" font-family=\"Times,serif\" font-size=\"14.00\"> </text>\n<polyline fill=\"none\" stroke=\"black\" points=\"1710.5,-81.5 1710.5,-117.5 \"/>\n<text text-anchor=\"middle\" x=\"1750.5\" y=\"-95.8\" font-family=\"Times,serif\" font-size=\"14.00\">data 1.0000</text>\n<polyline fill=\"none\" stroke=\"black\" points=\"1790.5,-81.5 1790.5,-117.5 \"/>\n<text text-anchor=\"middle\" x=\"1833.5\" y=\"-95.8\" font-family=\"Times,serif\" font-size=\"14.00\">grad &#45;0.1036</text>\n</g>\n<!-- 132387627088144&#45;&gt;132387627081568+ -->\n<g id=\"edge26\" class=\"edge\">\n<title>132387627088144&#45;&gt;132387627081568+</title>\n<path fill=\"none\" stroke=\"black\" d=\"M1876.6,-115.6C1886.15,-117.26 1895.37,-118.88 1903.68,-120.33\"/>\n<polygon fill=\"black\" stroke=\"black\" points=\"1903.2,-123.8 1913.65,-122.07 1904.4,-116.9 1903.2,-123.8\"/>\n</g>\n<!-- 132387606264656 -->\n<g id=\"node18\" class=\"node\">\n<title>132387606264656</title>\n<polygon fill=\"none\" stroke=\"black\" points=\"1382,-136.5 1382,-172.5 1564,-172.5 1564,-136.5 1382,-136.5\"/>\n<text text-anchor=\"middle\" x=\"1392\" y=\"-150.8\" font-family=\"Times,serif\" font-size=\"14.00\"> </text>\n<polyline fill=\"none\" stroke=\"black\" points=\"1402,-136.5 1402,-172.5 \"/>\n<text text-anchor=\"middle\" x=\"1442\" y=\"-150.8\" font-family=\"Times,serif\" font-size=\"14.00\">data 1.7627</text>\n<polyline fill=\"none\" stroke=\"black\" points=\"1482,-136.5 1482,-172.5 \"/>\n<text text-anchor=\"middle\" x=\"1523\" y=\"-150.8\" font-family=\"Times,serif\" font-size=\"14.00\">grad 0.2500</text>\n</g>\n<!-- 132387606264656&#45;&gt;132387606263168exp -->\n<g id=\"edge15\" class=\"edge\">\n<title>132387606264656&#45;&gt;132387606263168exp</title>\n<path fill=\"none\" stroke=\"black\" d=\"M1564.18,-154.5C1573.14,-154.5 1581.83,-154.5 1589.73,-154.5\"/>\n<polygon fill=\"black\" stroke=\"black\" points=\"1589.96,-158 1599.96,-154.5 1589.96,-151 1589.96,-158\"/>\n</g>\n<!-- 132387606264656*&#45;&gt;132387606264656 -->\n<g id=\"edge6\" class=\"edge\">\n<title>132387606264656*&#45;&gt;132387606264656</title>\n<path fill=\"none\" stroke=\"black\" d=\"M1346.13,-154.5C1353.67,-154.5 1362.39,-154.5 1371.64,-154.5\"/>\n<polygon fill=\"black\" stroke=\"black\" points=\"1371.87,-158 1381.87,-154.5 1371.87,-151 1371.87,-158\"/>\n</g>\n<!-- 132387627081568 -->\n<g id=\"node20\" class=\"node\">\n<title>132387627081568</title>\n<polygon fill=\"none\" stroke=\"black\" points=\"2003,-108.5 2003,-144.5 2189,-144.5 2189,-108.5 2003,-108.5\"/>\n<text text-anchor=\"middle\" x=\"2013\" y=\"-122.8\" font-family=\"Times,serif\" font-size=\"14.00\"> </text>\n<polyline fill=\"none\" stroke=\"black\" points=\"2023,-108.5 2023,-144.5 \"/>\n<text text-anchor=\"middle\" x=\"2063\" y=\"-122.8\" font-family=\"Times,serif\" font-size=\"14.00\">data 6.8284</text>\n<polyline fill=\"none\" stroke=\"black\" points=\"2103,-108.5 2103,-144.5 \"/>\n<text text-anchor=\"middle\" x=\"2146\" y=\"-122.8\" font-family=\"Times,serif\" font-size=\"14.00\">grad &#45;0.1036</text>\n</g>\n<!-- 132387627088768**&#45;1 -->\n<g id=\"node23\" class=\"node\">\n<title>132387627088768**&#45;1</title>\n<ellipse fill=\"none\" stroke=\"black\" cx=\"2316\" cy=\"-126.5\" rx=\"27\" ry=\"18\"/>\n<text text-anchor=\"middle\" x=\"2316\" y=\"-122.8\" font-family=\"Times,serif\" font-size=\"14.00\">**&#45;1</text>\n</g>\n<!-- 132387627081568&#45;&gt;132387627088768**&#45;1 -->\n<g id=\"edge24\" class=\"edge\">\n<title>132387627081568&#45;&gt;132387627088768**&#45;1</title>\n<path fill=\"none\" stroke=\"black\" d=\"M2189.14,-126.5C2220.72,-126.5 2254.24,-126.5 2278.74,-126.5\"/>\n<polygon fill=\"black\" stroke=\"black\" points=\"2278.98,-130 2288.98,-126.5 2278.98,-123 2278.98,-130\"/>\n</g>\n<!-- 132387627081568+&#45;&gt;132387627081568 -->\n<g id=\"edge7\" class=\"edge\">\n<title>132387627081568+&#45;&gt;132387627081568</title>\n<path fill=\"none\" stroke=\"black\" d=\"M1967.12,-126.5C1974.62,-126.5 1983.29,-126.5 1992.5,-126.5\"/>\n<polygon fill=\"black\" stroke=\"black\" points=\"1992.69,-130 2002.69,-126.5 1992.69,-123 1992.69,-130\"/>\n</g>\n<!-- 132387627088768 -->\n<g id=\"node22\" class=\"node\">\n<title>132387627088768</title>\n<polygon fill=\"none\" stroke=\"black\" points=\"2443,-112.5 2443,-148.5 2625,-148.5 2625,-112.5 2443,-112.5\"/>\n<text text-anchor=\"middle\" x=\"2453\" y=\"-126.8\" font-family=\"Times,serif\" font-size=\"14.00\"> </text>\n<polyline fill=\"none\" stroke=\"black\" points=\"2463,-112.5 2463,-148.5 \"/>\n<text text-anchor=\"middle\" x=\"2503\" y=\"-126.8\" font-family=\"Times,serif\" font-size=\"14.00\">data 0.1464</text>\n<polyline fill=\"none\" stroke=\"black\" points=\"2543,-112.5 2543,-148.5 \"/>\n<text text-anchor=\"middle\" x=\"2584\" y=\"-126.8\" font-family=\"Times,serif\" font-size=\"14.00\">grad 4.8284</text>\n</g>\n<!-- 132387627088768&#45;&gt;132387627085360* -->\n<g id=\"edge25\" class=\"edge\">\n<title>132387627088768&#45;&gt;132387627085360*</title>\n<path fill=\"none\" stroke=\"black\" d=\"M2625.18,-144.15C2634.42,-145.54 2643.38,-146.9 2651.47,-148.12\"/>\n<polygon fill=\"black\" stroke=\"black\" points=\"2651.15,-151.61 2661.56,-149.65 2652.19,-144.69 2651.15,-151.61\"/>\n</g>\n<!-- 132387627088768**&#45;1&#45;&gt;132387627088768 -->\n<g id=\"edge8\" class=\"edge\">\n<title>132387627088768**&#45;1&#45;&gt;132387627088768</title>\n<path fill=\"none\" stroke=\"black\" d=\"M2343.05,-126.98C2365.53,-127.4 2399.48,-128.03 2432.5,-128.64\"/>\n<polygon fill=\"black\" stroke=\"black\" points=\"2432.64,-132.14 2442.7,-128.83 2432.77,-125.14 2432.64,-132.14\"/>\n</g>\n<!-- 132387606265760 -->\n<g id=\"node24\" class=\"node\">\n<title>132387606265760</title>\n<polygon fill=\"none\" stroke=\"black\" points=\"672,-82.5 672,-118.5 945,-118.5 945,-82.5 672,-82.5\"/>\n<text text-anchor=\"middle\" x=\"725\" y=\"-96.8\" font-family=\"Times,serif\" font-size=\"14.00\">x1*w1 + x2*w2</text>\n<polyline fill=\"none\" stroke=\"black\" points=\"778,-82.5 778,-118.5 \"/>\n<text text-anchor=\"middle\" x=\"820.5\" y=\"-96.8\" font-family=\"Times,serif\" font-size=\"14.00\">data &#45;6.0000</text>\n<polyline fill=\"none\" stroke=\"black\" points=\"863,-82.5 863,-118.5 \"/>\n<text text-anchor=\"middle\" x=\"904\" y=\"-96.8\" font-family=\"Times,serif\" font-size=\"14.00\">grad 0.5000</text>\n</g>\n<!-- 132387606265760&#45;&gt;132387606264848+ -->\n<g id=\"edge11\" class=\"edge\">\n<title>132387606265760&#45;&gt;132387606264848+</title>\n<path fill=\"none\" stroke=\"black\" d=\"M941.24,-118.51C952.12,-120 962.4,-121.4 971.45,-122.64\"/>\n<polygon fill=\"black\" stroke=\"black\" points=\"971.11,-126.13 981.49,-124.01 972.05,-119.19 971.11,-126.13\"/>\n</g>\n<!-- 132387606265760+&#45;&gt;132387606265760 -->\n<g id=\"edge9\" class=\"edge\">\n<title>132387606265760+&#45;&gt;132387606265760</title>\n<path fill=\"none\" stroke=\"black\" d=\"M636.23,-100.5C643.7,-100.5 652.41,-100.5 661.87,-100.5\"/>\n<polygon fill=\"black\" stroke=\"black\" points=\"661.98,-104 671.98,-100.5 661.98,-97 661.98,-104\"/>\n</g>\n<!-- 132387606265280 -->\n<g id=\"node26\" class=\"node\">\n<title>132387606265280</title>\n<polygon fill=\"none\" stroke=\"black\" points=\"1690,-191.5 1690,-227.5 1877,-227.5 1877,-191.5 1690,-191.5\"/>\n<text text-anchor=\"middle\" x=\"1700\" y=\"-205.8\" font-family=\"Times,serif\" font-size=\"14.00\"> </text>\n<polyline fill=\"none\" stroke=\"black\" points=\"1710,-191.5 1710,-227.5 \"/>\n<text text-anchor=\"middle\" x=\"1752.5\" y=\"-205.8\" font-family=\"Times,serif\" font-size=\"14.00\">data &#45;1.0000</text>\n<polyline fill=\"none\" stroke=\"black\" points=\"1795,-191.5 1795,-227.5 \"/>\n<text text-anchor=\"middle\" x=\"1836\" y=\"-205.8\" font-family=\"Times,serif\" font-size=\"14.00\">grad 0.1464</text>\n</g>\n<!-- 132387606265280&#45;&gt;132387606265328+ -->\n<g id=\"edge19\" class=\"edge\">\n<title>132387606265280&#45;&gt;132387606265328+</title>\n<path fill=\"none\" stroke=\"black\" d=\"M1877.05,-192.73C1886.54,-191.01 1895.71,-189.35 1903.95,-187.85\"/>\n<polygon fill=\"black\" stroke=\"black\" points=\"1904.64,-191.28 1913.85,-186.06 1903.39,-184.4 1904.64,-191.28\"/>\n</g>\n<!-- 132387606265328 -->\n<g id=\"node27\" class=\"node\">\n<title>132387606265328</title>\n<polygon fill=\"none\" stroke=\"black\" points=\"2225,-163.5 2225,-199.5 2407,-199.5 2407,-163.5 2225,-163.5\"/>\n<text text-anchor=\"middle\" x=\"2235\" y=\"-177.8\" font-family=\"Times,serif\" font-size=\"14.00\"> </text>\n<polyline fill=\"none\" stroke=\"black\" points=\"2245,-163.5 2245,-199.5 \"/>\n<text text-anchor=\"middle\" x=\"2285\" y=\"-177.8\" font-family=\"Times,serif\" font-size=\"14.00\">data 4.8284</text>\n<polyline fill=\"none\" stroke=\"black\" points=\"2325,-163.5 2325,-199.5 \"/>\n<text text-anchor=\"middle\" x=\"2366\" y=\"-177.8\" font-family=\"Times,serif\" font-size=\"14.00\">grad 0.1464</text>\n</g>\n<!-- 132387606265328&#45;&gt;132387627085360* -->\n<g id=\"edge12\" class=\"edge\">\n<title>132387606265328&#45;&gt;132387627085360*</title>\n<path fill=\"none\" stroke=\"black\" d=\"M2407.31,-174.9C2468.7,-170.37 2551.76,-164.19 2625,-158.5 2633.42,-157.85 2642.48,-157.13 2651.01,-156.44\"/>\n<polygon fill=\"black\" stroke=\"black\" points=\"2651.37,-159.92 2661.06,-155.63 2650.81,-152.94 2651.37,-159.92\"/>\n</g>\n<!-- 132387606265328+&#45;&gt;132387606265328 -->\n<g id=\"edge10\" class=\"edge\">\n<title>132387606265328+&#45;&gt;132387606265328</title>\n<path fill=\"none\" stroke=\"black\" d=\"M1967,-181.5C2017.46,-181.5 2131.06,-181.5 2214.81,-181.5\"/>\n<polygon fill=\"black\" stroke=\"black\" points=\"2214.87,-185 2224.87,-181.5 2214.87,-178 2214.87,-185\"/>\n</g>\n</g>\n</svg>\n",
            "text/plain": [
              "<graphviz.graphs.Digraph at 0x7867e43e75b0>"
            ]
          },
          "metadata": {},
          "execution_count": 30
        }
      ]
    },
    {
      "cell_type": "markdown",
      "source": [
        "Now we are doing the same thing using the tensor of pytorch.  \n",
        "Some important things about tensor:  \n",
        "1. unlike python it uses float32. so we need to double it to get float64.  \n",
        "2. By default it does not have gradiant mentioned, so we need to manually tell it .\n"
      ],
      "metadata": {
        "id": "25gKgoapBlAh"
      }
    },
    {
      "cell_type": "code",
      "source": [
        "import torch"
      ],
      "metadata": {
        "id": "3qhifgGMBuYO"
      },
      "execution_count": 31,
      "outputs": []
    },
    {
      "cell_type": "code",
      "source": [
        "x1 = torch.Tensor([2.0]).double()                ; x1.requires_grad = True\n",
        "x2 = torch.Tensor([0.0]).double()                ; x2.requires_grad = True\n",
        "w1 = torch.Tensor([-3.0]).double()               ; w1.requires_grad = True\n",
        "w2 = torch.Tensor([1.0]).double()                ; w2.requires_grad = True\n",
        "b = torch.Tensor([6.8813735870195432]).double()  ; b.requires_grad = True\n",
        "n = x1*w1 + x2*w2 + b\n",
        "o = torch.tanh(n)\n",
        "\n",
        "print(o.data.item())\n",
        "o.backward()\n",
        "\n",
        "print('---')\n",
        "print('x2', x2.grad.item())\n",
        "print('w2', w2.grad.item())\n",
        "print('x1', x1.grad.item())\n",
        "print('w1', w1.grad.item())"
      ],
      "metadata": {
        "colab": {
          "base_uri": "https://localhost:8080/"
        },
        "id": "KLDdXBD4vZe5",
        "outputId": "2d2dedf9-677e-41fe-eb42-503474e5ab91"
      },
      "execution_count": 32,
      "outputs": [
        {
          "output_type": "stream",
          "name": "stdout",
          "text": [
            "0.7071066904050358\n",
            "---\n",
            "x2 0.5000001283844369\n",
            "w2 0.0\n",
            "x1 -1.5000003851533106\n",
            "w1 1.0000002567688737\n"
          ]
        }
      ]
    },
    {
      "cell_type": "code",
      "source": [
        "import random\n",
        "\n",
        "class Neuron: # this is a single neuron. And the value we get, is from a single neuron.\n",
        "  def __init__(self, nin):\n",
        "    self.w = [Value(random.uniform(-1, 1)) for _ in range(nin)]\n",
        "    self.b = Value(random.uniform(-1, 1))\n",
        "\n",
        "  def __call__(self, x):\n",
        "    # w *x = b\n",
        "    act = sum((wi*xi for wi, xi in zip(self.w, x)), self.b)\n",
        "    out = act.tanh()\n",
        "    return out\n",
        "\n",
        "  def parameters(self):\n",
        "    return self.w + [self.b]\n",
        "\n",
        "# we will now create a layer of neurons\n",
        "\n",
        "class Layer:\n",
        "  def __init__(self, nin, nout):\n",
        "    self.neurons = [Neuron(nin) for _ in range(nout)]\n",
        "\n",
        "  def __call__(self, x):\n",
        "    outs = [n(x) for n in self.neurons]\n",
        "    return outs[0] if len(outs) == 1 else outs\n",
        "\n",
        "  def parameters(self):\n",
        "    return [p for neuron in self.neurons for p in neuron.parameters()]\n",
        "\n",
        "#MLP = Multilayer perception where the layers just feed into each other sequentially.\n",
        "#nouts= a list of the size of all the layers that we want in out mlp\n",
        "\n",
        "class MLP:\n",
        "  def __init__(self, nin, nouts):\n",
        "    sz = [nin] + nouts\n",
        "    self.layers = [Layer(sz[i], sz[i + 1]) for i in range(len(nouts))]\n",
        "\n",
        "  def __call__(self, x):\n",
        "    for layer in self.layers:\n",
        "      x = layer(x)\n",
        "    return x\n",
        "\n",
        "  def parameters(self):\n",
        "    return [p for layer in self.layers for p in layer.parameters()]\n",
        "\n",
        "# x = [2.0, 3.0]\n",
        "# n = Neuron(2, 3)\n",
        "# n(x)\n",
        "#This is the result from a single neuron\n",
        "\n",
        "# x = [2.0, 3.0]\n",
        "# n = Layer(2, 3)\n",
        "# n(x)\n",
        "#Here 3 outputs are froom 3 neurons in a layer\n",
        "\n"
      ],
      "metadata": {
        "id": "_GOT11vECaZZ"
      },
      "execution_count": 33,
      "outputs": []
    },
    {
      "cell_type": "code",
      "source": [
        "x = [2.0, 3.0, -1.0]\n",
        "n = MLP(3, [4, 4, 1])\n",
        "n(x)"
      ],
      "metadata": {
        "colab": {
          "base_uri": "https://localhost:8080/"
        },
        "id": "8aGa7QdLupz-",
        "outputId": "7e4e6670-3f41-4720-e2b4-3dcf9e60728b"
      },
      "execution_count": 34,
      "outputs": [
        {
          "output_type": "execute_result",
          "data": {
            "text/plain": [
              "Value(data=0.44035966886079964)"
            ]
          },
          "metadata": {},
          "execution_count": 34
        }
      ]
    },
    {
      "cell_type": "code",
      "source": [
        "len(n.parameters()) # These are all the parameters of all the neurons we can see by removing the len"
      ],
      "metadata": {
        "colab": {
          "base_uri": "https://localhost:8080/"
        },
        "id": "qdT5vxG-utUe",
        "outputId": "ba58617b-ad9d-4ad8-eab3-8f925910fd33"
      },
      "execution_count": 35,
      "outputs": [
        {
          "output_type": "execute_result",
          "data": {
            "text/plain": [
              "41"
            ]
          },
          "metadata": {},
          "execution_count": 35
        }
      ]
    },
    {
      "cell_type": "code",
      "source": [
        "# draw_dot(n(x))"
      ],
      "metadata": {
        "id": "kF_VoYR7Z-zr"
      },
      "execution_count": 36,
      "outputs": []
    },
    {
      "cell_type": "markdown",
      "source": [
        "Okay now we will try to backpropagate our wat and try to find the grad of w and b.  \n",
        "I feeel soo good! Andrej is showing how to manually do all the things that I just did and accepted.  \n",
        "Alright, now I will create a small dataset and feed the inputs to my neural network that I just created. It will give me an input. After that I will manuallt tell that this ans that you gave me should be higher or lower.  \n",
        "LETS DOOO IT"
      ],
      "metadata": {
        "id": "hMNU9hutk1XB"
      }
    },
    {
      "cell_type": "code",
      "source": [
        "xs = [\n",
        "  [2.0, 3.0, -1.0],\n",
        "  [3.0, -1.0, 0.5],\n",
        "  [0.5, 1.0, 1.0],\n",
        "  [1.0, 1.0, -1.0],\n",
        "]\n",
        "ys = [1.0, -1.0, -1.0, 1.0] # desired targets\n",
        "\n",
        "ypred = [n(x) for x in xs]\n",
        "ypred"
      ],
      "metadata": {
        "colab": {
          "base_uri": "https://localhost:8080/"
        },
        "id": "R5Jo3pdTkWpg",
        "outputId": "6de69185-f39b-4293-fb8e-1cfaf27c2478"
      },
      "execution_count": 37,
      "outputs": [
        {
          "output_type": "execute_result",
          "data": {
            "text/plain": [
              "[Value(data=0.44035966886079964),\n",
              " Value(data=0.005068809791667399),\n",
              " Value(data=0.31476775910734306),\n",
              " Value(data=0.33473144512670666)]"
            ]
          },
          "metadata": {},
          "execution_count": 37
        }
      ]
    },
    {
      "cell_type": "markdown",
      "source": [
        "We will calculate the loss, in particular, the mse."
      ],
      "metadata": {
        "id": "7JbponjKmYHE"
      }
    },
    {
      "cell_type": "code",
      "source": [
        "[(yout - ygt)**2 for ygt, yout in zip(ys, ypred)]"
      ],
      "metadata": {
        "colab": {
          "base_uri": "https://localhost:8080/"
        },
        "id": "FZg1rgkJmHFn",
        "outputId": "94245b71-dd36-400e-c798-7c802dac9411"
      },
      "execution_count": 38,
      "outputs": [
        {
          "output_type": "execute_result",
          "data": {
            "text/plain": [
              "[Value(data=0.3131973002375939),\n",
              " Value(data=1.0101633124160387),\n",
              " Value(data=1.7286142603881443),\n",
              " Value(data=0.4425822501032)]"
            ]
          },
          "metadata": {},
          "execution_count": 38
        }
      ]
    },
    {
      "cell_type": "markdown",
      "source": [
        "Now we will summ all the losses to get a universal loss and try to minimize the loss."
      ],
      "metadata": {
        "id": "hx3C9cZrnp0X"
      }
    },
    {
      "cell_type": "code",
      "source": [
        "ypred = [n(x) for x in xs]\n",
        "loss =sum((yout - ygt)**2 for ygt, yout in zip(ys, ypred))\n",
        "loss\n"
      ],
      "metadata": {
        "colab": {
          "base_uri": "https://localhost:8080/"
        },
        "id": "uMKsr6slndC-",
        "outputId": "eeab0205-e511-4e3e-e59a-a29f48f7ab51"
      },
      "execution_count": 39,
      "outputs": [
        {
          "output_type": "execute_result",
          "data": {
            "text/plain": [
              "Value(data=3.4945571231449772)"
            ]
          },
          "metadata": {},
          "execution_count": 39
        }
      ]
    },
    {
      "cell_type": "markdown",
      "source": [
        "Now heres another intersting thing. The particular weight of a particular neuron shown below has a grad value when we run .backward and by seeing the grad value we can determine how much influence that neuron is having on the loss. suppose the value is negative 0.2. so by making the value of this neuron slightly possitive, our loss will decrease. AND we can see this for every neuron!! How cool is that??"
      ],
      "metadata": {
        "id": "jkHzvTxtqhyL"
      }
    },
    {
      "cell_type": "code",
      "source": [
        "loss.backward()\n",
        "\n",
        "n.layers[0].neurons[0].w[0].grad"
      ],
      "metadata": {
        "colab": {
          "base_uri": "https://localhost:8080/"
        },
        "id": "l1dDhDSMnzaV",
        "outputId": "676adacb-703a-49d6-cfbb-eed09534d202"
      },
      "execution_count": 40,
      "outputs": [
        {
          "output_type": "execute_result",
          "data": {
            "text/plain": [
              "1.2111917420612444"
            ]
          },
          "metadata": {},
          "execution_count": 40
        }
      ]
    },
    {
      "cell_type": "code",
      "source": [
        "n.layers[0].neurons[0].w[0].data"
      ],
      "metadata": {
        "colab": {
          "base_uri": "https://localhost:8080/"
        },
        "id": "5frWoRKYvfzE",
        "outputId": "8806706e-7c34-4ef0-9d40-2f91583ce233"
      },
      "execution_count": 41,
      "outputs": [
        {
          "output_type": "execute_result",
          "data": {
            "text/plain": [
              "0.11704108703733596"
            ]
          },
          "metadata": {},
          "execution_count": 41
        }
      ]
    },
    {
      "cell_type": "markdown",
      "source": [
        "## Collecting all of the parameters of the neural nets\n",
        "\n",
        "Now we have to collect all the parameters so that we can nudge them accordingly. I am doing this in the upper section. Here we can see that, I multiplied a very small amount with the gradient of the data which is called a step. As the gradient is in minus, so if we want to reduce the loss, we aim to make the gradiant 0, and to make this, wee need to multiply with a very small but negative number."
      ],
      "metadata": {
        "id": "cPSKZuNCsPwa"
      }
    },
    {
      "cell_type": "code",
      "source": [
        "  for p in n.parameters():\n",
        "    p.data += -0.01 * p.grad"
      ],
      "metadata": {
        "id": "0I1NJcr1rRTz"
      },
      "execution_count": 42,
      "outputs": []
    },
    {
      "cell_type": "code",
      "source": [
        "n.layers[0].neurons[0].w[0].data"
      ],
      "metadata": {
        "colab": {
          "base_uri": "https://localhost:8080/"
        },
        "id": "svGpKxnIBlCu",
        "outputId": "57badad9-8e4c-4c86-b48b-f25924a74d76"
      },
      "execution_count": 43,
      "outputs": [
        {
          "output_type": "execute_result",
          "data": {
            "text/plain": [
              "0.10492916961672351"
            ]
          },
          "metadata": {},
          "execution_count": 43
        }
      ]
    },
    {
      "cell_type": "markdown",
      "source": [
        "Now lets check if the loss has been reduced"
      ],
      "metadata": {
        "id": "i8kId73YCjWD"
      }
    },
    {
      "cell_type": "code",
      "source": [
        "ypred = [n(x) for x in xs]\n",
        "loss =sum((yout - ygt)**2 for ygt, yout in zip(ys, ypred))\n",
        "loss\n",
        "# It hassssssssssss! Congo to me and andrej karpathy."
      ],
      "metadata": {
        "colab": {
          "base_uri": "https://localhost:8080/"
        },
        "id": "R3Rb3sJDBl9Q",
        "outputId": "9b7da92d-4430-423b-e9b0-cd61dc8da8de"
      },
      "execution_count": 44,
      "outputs": [
        {
          "output_type": "execute_result",
          "data": {
            "text/plain": [
              "Value(data=3.045840930485059)"
            ]
          },
          "metadata": {},
          "execution_count": 44
        }
      ]
    },
    {
      "cell_type": "markdown",
      "source": [
        "Okay another interesting thing. The above cell is for forward pass. If we again run loss.backward and then run the above cell, the loss should be even lower. it will learn all over again. The below 3 cells is the loop we need to iterate multiple times"
      ],
      "metadata": {
        "id": "q3fICLRxDMSN"
      }
    },
    {
      "cell_type": "code",
      "source": [
        "#Forward pass\n",
        "ypred = [n(x) for x in xs]\n",
        "loss =sum((yout - ygt)**2 for ygt, yout in zip(ys, ypred))\n",
        "loss"
      ],
      "metadata": {
        "colab": {
          "base_uri": "https://localhost:8080/"
        },
        "id": "vsyoW3irDj_l",
        "outputId": "9629a0d0-4ca2-4eeb-d2c1-9dd8396de194"
      },
      "execution_count": 45,
      "outputs": [
        {
          "output_type": "execute_result",
          "data": {
            "text/plain": [
              "Value(data=3.045840930485059)"
            ]
          },
          "metadata": {},
          "execution_count": 45
        }
      ]
    },
    {
      "cell_type": "code",
      "source": [
        "\n",
        "#backward pass\n",
        "loss.backward()"
      ],
      "metadata": {
        "id": "nYx7s9p6CuLT"
      },
      "execution_count": 46,
      "outputs": []
    },
    {
      "cell_type": "code",
      "source": [
        "#Update\n",
        "for p in n.parameters():\n",
        "  p.data += -0.01 * p.grad"
      ],
      "metadata": {
        "id": "S2IMD_PADxus"
      },
      "execution_count": 47,
      "outputs": []
    },
    {
      "cell_type": "code",
      "source": [
        "# Here we can see that we almost got our desired output\n",
        "ypred"
      ],
      "metadata": {
        "colab": {
          "base_uri": "https://localhost:8080/"
        },
        "id": "BWZGgurvDl1O",
        "outputId": "bd2c32ab-77b9-42cd-ec19-1f2f42d83958"
      },
      "execution_count": 48,
      "outputs": [
        {
          "output_type": "execute_result",
          "data": {
            "text/plain": [
              "[Value(data=0.41881007145561927),\n",
              " Value(data=-0.13391168172836881),\n",
              " Value(data=0.22274151834979677),\n",
              " Value(data=0.31966669808050147)]"
            ]
          },
          "metadata": {},
          "execution_count": 48
        }
      ]
    },
    {
      "cell_type": "markdown",
      "source": [
        "Now lets make it respectable. Lets form a loop.  \n",
        "One more thing, we need to reset the grad everytime because we are not adding the grad, we need to update the new grad"
      ],
      "metadata": {
        "id": "VYlsAjZoGyIv"
      }
    },
    {
      "cell_type": "code",
      "source": [
        "for i in range(20):\n",
        "  #forward pass\n",
        "  ypred = [n(x) for x in xs]\n",
        "  loss =sum((yout - ygt)**2 for ygt, yout in zip(ys, ypred))\n",
        "\n",
        "  for p in n.parameters():\n",
        "    p.grad = 0.0\n",
        "\n",
        "  #backward pass\n",
        "  loss.backward()\n",
        "\n",
        "  #update\n",
        "  for p in n.parameters():\n",
        "    p.data += -0.01 * p.grad\n",
        "\n",
        "  print(i, loss.data)\n"
      ],
      "metadata": {
        "colab": {
          "base_uri": "https://localhost:8080/"
        },
        "id": "NzBa7n4vFdkl",
        "outputId": "8aa3b5fd-f1c0-4aab-e4c0-6433e3ffc71f"
      },
      "execution_count": 49,
      "outputs": [
        {
          "output_type": "stream",
          "name": "stdout",
          "text": [
            "0 2.2743294650744534\n",
            "1 1.934287060878932\n",
            "2 1.6515665510088582\n",
            "3 1.4212866883962694\n",
            "4 1.2346554236429872\n",
            "5 1.083240066996463\n",
            "6 0.9597212720838942\n",
            "7 0.8581146906173203\n",
            "8 0.7737111858114443\n",
            "9 0.7028780773852412\n",
            "10 0.6428334308457802\n",
            "11 0.5914456983130358\n",
            "12 0.5470733047577591\n",
            "13 0.5084423274519079\n",
            "14 0.4745553105516008\n",
            "15 0.4446238797470528\n",
            "16 0.41801898964838685\n",
            "17 0.39423405776278087\n",
            "18 0.37285747844190753\n",
            "19 0.35355197422097406\n"
          ]
        }
      ]
    },
    {
      "cell_type": "markdown",
      "source": [
        "As we can see by every iteration, the loss kept getting lower and lower. Now lets check ypred"
      ],
      "metadata": {
        "id": "rf45Z1QrHUIX"
      }
    },
    {
      "cell_type": "code",
      "source": [
        "ypred"
      ],
      "metadata": {
        "colab": {
          "base_uri": "https://localhost:8080/"
        },
        "id": "6JjTATovHSWN",
        "outputId": "04585008-4dbb-4906-d319-5cb15f01306d"
      },
      "execution_count": 50,
      "outputs": [
        {
          "output_type": "execute_result",
          "data": {
            "text/plain": [
              "[Value(data=0.81324902582089),\n",
              " Value(data=-0.7702884101642476),\n",
              " Value(data=-0.5947394754534705),\n",
              " Value(data=0.6811386812366068)]"
            ]
          },
          "metadata": {},
          "execution_count": 50
        }
      ]
    },
    {
      "cell_type": "markdown",
      "source": [
        "FABULOUS!"
      ],
      "metadata": {
        "id": "6qhqryJ3HhTo"
      }
    },
    {
      "cell_type": "code",
      "source": [],
      "metadata": {
        "id": "BHqblH9WHgA6"
      },
      "execution_count": 50,
      "outputs": []
    }
  ]
}